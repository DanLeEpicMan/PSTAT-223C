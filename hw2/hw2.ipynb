{
 "cells": [
  {
   "cell_type": "code",
   "execution_count": 17,
   "id": "5d4ce7fe",
   "metadata": {},
   "outputs": [
    {
     "name": "stdout",
     "output_type": "stream",
     "text": [
      "Python 3.13.3\n"
     ]
    }
   ],
   "source": [
    "!python -V\n",
    "import numpy as np\n",
    "import scipy as sp\n",
    "import seaborn as sns\n",
    "import matplotlib.pyplot as plt\n",
    "\n",
    "\n",
    "rng = np.random.default_rng(1234)"
   ]
  },
  {
   "cell_type": "markdown",
   "id": "7d874a8f",
   "metadata": {},
   "source": [
    "# Question 1"
   ]
  },
  {
   "cell_type": "markdown",
   "id": "3036ba46",
   "metadata": {},
   "source": [
    "## (a)"
   ]
  },
  {
   "cell_type": "markdown",
   "id": "da85ed0e",
   "metadata": {},
   "source": [
    "For the model\n",
    "\n",
    "$$ dX_t = rX_t dt + \\sigma X_{t}^\\gamma dW_t $$\n",
    "\n",
    "We note that the associated PDE for the corridor option price $V(t, x)$ is\n",
    "\n",
    "$$\n",
    "\\begin{align*}\n",
    "    &\\frac{\\partial V}{\\partial t} + rx \\frac{\\partial V}{\\partial x} + \\frac{\\sigma^2 x^{2\\gamma}}{2} \\frac{\\partial^2 V}{\\partial x^2} - rV = 0 \\\\\n",
    "    &\\\\\n",
    "    &V(T, x) = 𝟙_{[15, 25]} (x)\n",
    "\\end{align*}\n",
    "$$\n",
    "\n",
    "We recall that $V^{m}_{n} = V(m\\Delta t, x_\\mathrm{min} + n \\Delta x)$ and the discretizations for the implicit scheme is given by\n",
    "\n",
    "$$\n",
    "\\begin{align*}\n",
    "    \\frac{\\partial V}{\\partial t} &\\approx \\frac{V^{m}_{n} - V^{m-1}_{n}}{\\Delta t} \\\\\n",
    "    \\frac{\\partial V}{\\partial x} &\\approx \\frac{V^{m-1}_{n+1} - V^{m-1}_{n-1}}{2\\Delta x} \\\\\n",
    "    \\frac{\\partial^2 V}{\\partial x^2} & \\approx \\frac{V^{m-1}_{n+1} - 2V^{m-1}_{n} + V^{m-1}_{n-1}}{(\\Delta x)^2}\n",
    "\\end{align*}\n",
    "$$"
   ]
  },
  {
   "cell_type": "markdown",
   "id": "244163d2",
   "metadata": {},
   "source": [
    "Setting $\\chi_n = x_\\mathrm{min} + n\\Delta x$, this yields the discretization\n",
    "\n",
    "$$\n",
    "    \\frac{1}{\\Delta t} \\left( V^{m}_{n} - V^{m-1}_{n} \\right) + \\frac{r\\chi_n}{2\\Delta x} \\left( V^{m-1}_{n+1} - V^{m-1}_{n-1} \\right) + \\frac{\\sigma^2 \\chi_{n}^{2\\gamma}}{2(\\Delta x)^2} \\left( V^{m-1}_{n+1} - 2V^{m-1}_{n} + V^{m-1}_{n-1} \\right) - rV^{m-1}_{n} = 0\n",
    "$$"
   ]
  },
  {
   "cell_type": "markdown",
   "id": "274d0d82",
   "metadata": {},
   "source": [
    "Now set $\\alpha_n = \\frac{r \\chi_n \\Delta t}{2\\Delta x}$, $\\beta_n = \\frac{\\sigma^2 \\chi_{n}^{2\\gamma} \\Delta t}{2\\Delta x^2}$. Then we arrive at the scheme\n",
    "\n",
    "$$\n",
    "\\begin{align*}\n",
    "    V^{m}_{n} &= V^{m-1}_{n-1} \\left(\\alpha_n - \\beta_n \\right) \\\\\n",
    "    &+ V^{m-1}_{n} \\left(1 + r \\Delta t + 2\\beta_n \\right) \\\\\n",
    "    &+ V^{m-1}_{n+1} \\left(-\\alpha_n - \\beta_n \\right)\n",
    "\\end{align*}\n",
    "$$\n",
    "For the boundary conditions, we will use the fact that $V(t, x) = 0$ when $x \\notin [15, 25]$, which translates to $V_{N+1}^{k} = V_{0}^{k} = 0$."
   ]
  },
  {
   "cell_type": "code",
   "execution_count": 18,
   "id": "e9218206",
   "metadata": {},
   "outputs": [],
   "source": [
    "def implicit_solver(\n",
    "        *,\n",
    "        dt: float,\n",
    "        dx: float,\n",
    "        r: float,\n",
    "        gamma: float,\n",
    "        sigma: float,\n",
    "        T: float,\n",
    "        x_range: tuple[float, float]\n",
    ") -> np.ndarray:\n",
    "        '''\n",
    "        x_range is interpreted as `[X_min, X_max]`. Necessarily, x0 should be in x_range.\n",
    "\n",
    "        This assumes that `T / dt` and `(X_max - X_min) / dx` are integers.\n",
    "        '''\n",
    "        # initialize grid and initial conditions\n",
    "        x_min, x_max = x_range\n",
    "        M = int(T / dt)\n",
    "        N = int((x_max - x_min) / dx) + 1\n",
    "\n",
    "        grid = np.empty((N, M))\n",
    "        grid[:, -1] = np.ones(N)\n",
    "\n",
    "        # find the matrix A s.t. Av^{m-1} = v^m\n",
    "        # instead of constructing A explicitly,\n",
    "        # i will use scipy's \"solve_banded\" method\n",
    "        # which requires a 3 x N matrix.\n",
    "        n = np.arange(1, N+1) # 1, 2, ..., N\n",
    "        chi = x_min + n * dx\n",
    "        alpha = (r * chi * dt) / (2 * dx)\n",
    "        beta = (sigma**2 * chi**(2 * gamma) * dt) / (2 * dx**2)\n",
    "\n",
    "        upper_diagonal = -alpha - beta\n",
    "        upper_diagonal = np.delete(upper_diagonal, -1) # remove the last term since it doesn't appear in the scheme\n",
    "        upper_diagonal = np.insert(upper_diagonal, 0, 0) # for scipy\n",
    "\n",
    "        diagonal = 1 + r * dt + 2 * beta\n",
    "\n",
    "        lower_diagonal = alpha - beta\n",
    "        lower_diagonal = np.delete(lower_diagonal, 0) # remove the first term since it doesn't appear in the scheme\n",
    "        lower_diagonal = np.append(lower_diagonal, 0) # for scipy\n",
    "\n",
    "        A_scipy = np.vstack((upper_diagonal, diagonal, lower_diagonal))\n",
    "        \n",
    "        # run the scheme\n",
    "        for i in range(M - 1, 0, -1): # M - 1, ..., 1\n",
    "                grid[:, i-1] = sp.linalg.solve_banded((1, 1), A_scipy, grid[:, i])\n",
    "\n",
    "        return grid"
   ]
  },
  {
   "cell_type": "code",
   "execution_count": 19,
   "id": "09bbce80",
   "metadata": {},
   "outputs": [],
   "source": [
    "implicit_solution = implicit_solver(\n",
    "    dt=0.01,\n",
    "    dx=0.02,\n",
    "    r=0.05,\n",
    "    gamma=0.8,\n",
    "    sigma=0.4,\n",
    "    T=0.5,\n",
    "    x_range=(15, 25)\n",
    ")"
   ]
  },
  {
   "cell_type": "code",
   "execution_count": 20,
   "id": "3c8ff46a",
   "metadata": {},
   "outputs": [
    {
     "name": "stdout",
     "output_type": "stream",
     "text": [
      "Option Price at t=0, x=20: $0.7661\n"
     ]
    },
    {
     "data": {
      "image/png": "[encoded data removed]",
      "text/plain": [
       "<Figure size 640x480 with 1 Axes>"
      ]
     },
     "metadata": {},
     "output_type": "display_data"
    }
   ],
   "source": [
    "# graph the solution\n",
    "# 20 = 15 + k 0.02 so k = 5 / 0.02 = 250\n",
    "print(f'Option Price at t=0, x=20: ${implicit_solution[250, 0]:.4f}')\n",
    "\n",
    "ax = sns.lineplot(x=np.linspace(15, 25, 501), y=implicit_solution[:, 0])\n",
    "ax.set_xlabel('Value of Stock')\n",
    "ax.set_ylabel('Price of Option')\n",
    "ax.set_title('Corridor Option Pricing')\n",
    "\n",
    "plt.show()"
   ]
  }
 ],
 "metadata": {
  "kernelspec": {
   "display_name": "Python 3",
   "language": "python",
   "name": "python3"
  },
  "language_info": {
   "codemirror_mode": {
    "name": "ipython",
    "version": 3
   },
   "file_extension": ".py",
   "mimetype": "text/x-python",
   "name": "python",
   "nbconvert_exporter": "python",
   "pygments_lexer": "ipython3",
   "version": "3.13.3"
  }
 },
 "nbformat": 4,
 "nbformat_minor": 5
}
