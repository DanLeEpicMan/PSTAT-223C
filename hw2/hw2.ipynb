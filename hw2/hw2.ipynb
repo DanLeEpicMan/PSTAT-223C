{
 "cells": [
  {
   "cell_type": "code",
   "execution_count": 45,
   "id": "5d4ce7fe",
   "metadata": {},
   "outputs": [
    {
     "name": "stdout",
     "output_type": "stream",
     "text": [
      "Python 3.13.3\n"
     ]
    }
   ],
   "source": [
    "!python -V\n",
    "import numpy as np\n",
    "import scipy as sp\n",
    "import seaborn as sns\n",
    "\n",
    "rng = np.random.default_rng(1234)"
   ]
  },
  {
   "cell_type": "markdown",
   "id": "7d874a8f",
   "metadata": {},
   "source": [
    "# Question 1"
   ]
  },
  {
   "cell_type": "markdown",
   "id": "3036ba46",
   "metadata": {},
   "source": [
    "## (a)"
   ]
  },
  {
   "cell_type": "markdown",
   "id": "da85ed0e",
   "metadata": {},
   "source": [
    "For the model\n",
    "\n",
    "$$ dX_t = rX_t dt + \\sigma X_{t}^\\gamma dW_t $$\n",
    "\n",
    "We note that the associated PDE for the corridor option price $V(t, x)$ is\n",
    "\n",
    "$$\n",
    "\\begin{align*}\n",
    "    &\\frac{\\partial V}{\\partial t} + rx \\frac{\\partial V}{\\partial x} + \\frac{\\sigma^2 x^{2\\gamma}}{2} \\frac{\\partial^2 V}{\\partial x^2} - rV = 0 \\\\\n",
    "    &\\\\\n",
    "    &V(T, x) = 𝟙_{[15, 25]} (x)\n",
    "\\end{align*}\n",
    "$$\n",
    "\n",
    "We recall that $V^{m}_{n} = V(m\\Delta t, n \\Delta x)$ and the discretizations for the implicit scheme is given by\n",
    "\n",
    "$$\n",
    "\\begin{align*}\n",
    "    \\frac{\\partial V}{\\partial t} &\\approx \\frac{V^{m}_{n} - V^{m-1}_{n}}{\\Delta t} \\\\\n",
    "    \\frac{\\partial V}{\\partial x} &\\approx \\frac{V^{m-1}_{n+1} - V^{m-1}_{n-1}}{2\\Delta x} \\\\\n",
    "    \\frac{\\partial^2 V}{\\partial x^2} & \\approx \\frac{V^{m-1}_{n+1} - 2V^{m-1}_{n} + V^{m-1}_{n-1}}{(\\Delta x)^2}\n",
    "\\end{align*}\n",
    "$$"
   ]
  },
  {
   "cell_type": "markdown",
   "id": "244163d2",
   "metadata": {},
   "source": [
    "Using the fact that $x = n \\Delta x$, this yields the scheme\n",
    "\n",
    "$$\n",
    "    \\frac{V^{m}_{n} - V^{m-1}_{n}}{\\Delta t} + rn \\frac{V^{m-1}_{n+1} - V^{m-1}_{n-1}}{2} + \\frac{\\sigma^2 n^2 (\\Delta x)^{(2\\gamma - 2)}}{2} \\left( V^{m-1}_{n+1} - 2V^{m-1}_{n} + V^{m-1}_{n-1} \\right) - rV^{m-1}_{n} = 0\n",
    "$$\n",
    "\n",
    "We will also use the boundary condition $\\frac{\\partial^2 V}{\\partial x^2} = 0$, which amounts to \n",
    "$$\n",
    "\\begin{align*}\n",
    "    &V^{k}_{N+1} = 2V^{k}_{N} - V^{k}_{N-1} \\\\\n",
    "    &V^{k}_{0} = 2V^{k}_{1} - V^{k}_{2}\n",
    "\\end{align*}\n",
    "$$\n",
    "Where $N+1, 0$ are indices beyond the $x$ scale."
   ]
  },
  {
   "cell_type": "markdown",
   "id": "274d0d82",
   "metadata": {},
   "source": [
    "Set $\\alpha = \\sigma^2 (\\Delta x)^{2\\gamma - 2}$. Then summarizing this scheme, we arrive at\n",
    "\n",
    "$$\n",
    "\\begin{align*}\n",
    "    V^{m}_{n} &= V^{m-1}_{n-1} \\left(\\frac{rn}{2} \\Delta t - \\frac{n^2 \\alpha}{2} \\Delta t \\right) \\\\\n",
    "    &+ V^{m-1}_{n} \\left(1 + r \\Delta t + n^2 \\alpha \\Delta t \\right) \\\\\n",
    "    &+ V^{m-1}_{n+1} \\left(-\\frac{rn}{2} \\Delta t - \\frac{n^2 \\alpha}{2} \\Delta t \\right)\n",
    "\\end{align*}\n",
    "$$"
   ]
  },
  {
   "cell_type": "markdown",
   "id": "ea1b76f6",
   "metadata": {},
   "source": [
    "Which simplifies to the linear system $A v^{m-1} = v^m$ where $A$ is given by \n",
    "\n",
    "$$\n",
    "    \\begin{bmatrix}\n",
    "        1 + 2r \\Delta t & -r \\Delta t & 0 & 0 & \\cdots & 0 & 0 & 0 \\\\\n",
    "        r\\Delta t - 2\\alpha \\Delta t & 1 + r \\Delta t + 4\\alpha \\Delta t & -r\\Delta t - 2\\alpha \\Delta t & 0 & \\cdots & 0 & 0 & 0 \\\\\n",
    "        0 & \\frac{3r}{2} \\Delta t - \\frac{9\\alpha}{2} \\Delta t & 1 + r\\Delta t + 9\\alpha \\Delta t & -\\frac{3r}{2} \\Delta t - \\frac{9\\alpha}{2} \\Delta t & \\dots & 0 & 0 & 0 \\\\\n",
    "        \\vdots & \\vdots & \\vdots & \\vdots & \\ddots & \\vdots & \\vdots & \\vdots \\\\\n",
    "        0 & 0 & 0 & 0 & \\cdots & 0 & rN \\Delta t & 1\n",
    "    \\end{bmatrix}\n",
    "$$\n",
    "\n",
    "Note that $n$ changes with the rows, and that the first and last row are different due to the natural boundary condition."
   ]
  },
  {
   "cell_type": "code",
   "execution_count": 46,
   "id": "e9218206",
   "metadata": {},
   "outputs": [],
   "source": [
    "def implicit_solver(\n",
    "        *,\n",
    "        dt: float,\n",
    "        dx: float,\n",
    "        r: float,\n",
    "        gamma: float,\n",
    "        sigma: float,\n",
    "        T: float,\n",
    "        x_range: tuple[float, float]\n",
    ") -> np.ndarray:\n",
    "        '''\n",
    "        x_range is interpreted as `[X_min, X_max]`. Necessarily, x0 should be in x_range.\n",
    "\n",
    "        This assumes that `T / dt` and `(X_max - X_min) / dx` are integers.\n",
    "        '''\n",
    "        # initialize grid and initial conditions\n",
    "        time_points = int(T / dt)\n",
    "        price_points = int((x_range[1] - x_range[0]) / dx) + 1\n",
    "\n",
    "        grid = np.empty((price_points, time_points))\n",
    "        grid[:, -1] = np.ones(price_points)\n",
    "\n",
    "        # find the matrix A\n",
    "        # instead of constructing A explicitly,\n",
    "        # i will use scipy's \"solve_banded\" method\n",
    "        # which requires a 3 x N matrix.\n",
    "        alpha = sigma**2 * (dx)**(2*gamma - 2)\n",
    "        n = np.arange(1, price_points) # 1, 2, ..., N - 1\n",
    "\n",
    "        upper_diagonal = -r * dt / 2 * n - alpha * dt / 2 * n**2\n",
    "        upper_diagonal[0] = -r * dt\n",
    "        upper_diagonal = np.insert(upper_diagonal, 0, 0) # for scipy\n",
    "\n",
    "        diagonal = 1 + r * dt + alpha * dt * n**2\n",
    "        diagonal[0] = 1 + 2 * r * dt\n",
    "        diagonal = np.append(diagonal, 1)\n",
    "\n",
    "        lower_diagonal = r * dt / 2 * n - alpha * dt / 2 * n**2\n",
    "        lower_diagonal[-1] = r * time_points * dt\n",
    "        lower_diagonal = np.append(lower_diagonal, 0) # for scipy\n",
    "\n",
    "        A_scipy = np.vstack((upper_diagonal, diagonal, lower_diagonal))\n",
    "        \n",
    "        # run the scheme\n",
    "        for i in range(time_points - 1, 0, -1): # M - 1, ..., 1\n",
    "                grid[:, i-1] = sp.linalg.solve_banded((1, 1), A_scipy, grid[:, i])\n",
    "\n",
    "        return grid"
   ]
  },
  {
   "cell_type": "code",
   "execution_count": 47,
   "id": "09bbce80",
   "metadata": {},
   "outputs": [],
   "source": [
    "implicit_solution = implicit_solver(\n",
    "    dt=0.01,\n",
    "    dx=0.02,\n",
    "    r=0.05,\n",
    "    gamma=0.8,\n",
    "    sigma=0.4,\n",
    "    T=0.5,\n",
    "    x_range=(15, 25)\n",
    ")"
   ]
  },
  {
   "cell_type": "code",
   "execution_count": null,
   "id": "3c8ff46a",
   "metadata": {},
   "outputs": [],
   "source": [
    "# graph the solution"
   ]
  }
 ],
 "metadata": {
  "kernelspec": {
   "display_name": "Python 3",
   "language": "python",
   "name": "python3"
  },
  "language_info": {
   "codemirror_mode": {
    "name": "ipython",
    "version": 3
   },
   "file_extension": ".py",
   "mimetype": "text/x-python",
   "name": "python",
   "nbconvert_exporter": "python",
   "pygments_lexer": "ipython3",
   "version": "3.13.3"
  }
 },
 "nbformat": 4,
 "nbformat_minor": 5
}
