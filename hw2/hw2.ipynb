{
 "cells": [
  {
   "cell_type": "code",
   "execution_count": 1,
   "id": "5d4ce7fe",
   "metadata": {},
   "outputs": [
    {
     "name": "stdout",
     "output_type": "stream",
     "text": [
      "Python 3.13.3\n"
     ]
    }
   ],
   "source": [
    "!python -V\n",
    "import numpy as np\n",
    "import scipy as sp\n",
    "import seaborn as sns\n",
    "import matplotlib.pyplot as plt\n",
    "from typing import Callable\n",
    "\n",
    "\n",
    "rng = np.random.default_rng(1234)"
   ]
  },
  {
   "cell_type": "markdown",
   "id": "7d874a8f",
   "metadata": {},
   "source": [
    "# Question 1"
   ]
  },
  {
   "cell_type": "markdown",
   "id": "3036ba46",
   "metadata": {},
   "source": [
    "## (a)"
   ]
  },
  {
   "cell_type": "markdown",
   "id": "da85ed0e",
   "metadata": {},
   "source": [
    "For the model\n",
    "\n",
    "$$ dX_t = rX_t dt + \\sigma X_{t}^\\gamma dW_t $$\n",
    "\n",
    "We note that the associated PDE for the corridor option price $V(t, x)$ is\n",
    "\n",
    "$$\n",
    "\\begin{align*}\n",
    "    &\\frac{\\partial V}{\\partial t} + rx \\frac{\\partial V}{\\partial x} + \\frac{\\sigma^2 x^{2\\gamma}}{2} \\frac{\\partial^2 V}{\\partial x^2} - rV = 0 \\\\\n",
    "    &\\\\\n",
    "    &V(T, x) = 𝟙_{[15, 25]} (x)\n",
    "\\end{align*}\n",
    "$$\n",
    "\n",
    "We recall that $V^{m}_{n} = V(m\\Delta t, x_\\mathrm{min} + n \\Delta x)$ and the discretizations for the implicit scheme is given by\n",
    "\n",
    "$$\n",
    "\\begin{align*}\n",
    "    \\frac{\\partial V}{\\partial t} &\\approx \\frac{V^{m}_{n} - V^{m-1}_{n}}{\\Delta t} \\\\\n",
    "    \\frac{\\partial V}{\\partial x} &\\approx \\frac{V^{m-1}_{n+1} - V^{m-1}_{n-1}}{2\\Delta x} \\\\\n",
    "    \\frac{\\partial^2 V}{\\partial x^2} & \\approx \\frac{V^{m-1}_{n+1} - 2V^{m-1}_{n} + V^{m-1}_{n-1}}{(\\Delta x)^2}\n",
    "\\end{align*}\n",
    "$$"
   ]
  },
  {
   "cell_type": "markdown",
   "id": "244163d2",
   "metadata": {},
   "source": [
    "Setting $\\chi_n = x_\\mathrm{min} + n\\Delta x$, this yields the discretization\n",
    "\n",
    "$$\n",
    "    \\frac{1}{\\Delta t} \\left( V^{m}_{n} - V^{m-1}_{n} \\right) + \\frac{r\\chi_n}{2\\Delta x} \\left( V^{m-1}_{n+1} - V^{m-1}_{n-1} \\right) + \\frac{\\sigma^2 \\chi_{n}^{2\\gamma}}{2(\\Delta x)^2} \\left( V^{m-1}_{n+1} - 2V^{m-1}_{n} + V^{m-1}_{n-1} \\right) - rV^{m-1}_{n} = 0\n",
    "$$"
   ]
  },
  {
   "cell_type": "markdown",
   "id": "274d0d82",
   "metadata": {},
   "source": [
    "Now set $\\alpha_n = \\frac{r \\chi_n \\Delta t}{2\\Delta x}$, $\\beta_n = \\frac{\\sigma^2 \\chi_{n}^{2\\gamma} \\Delta t}{2\\Delta x^2}$. Then we arrive at the scheme\n",
    "\n",
    "$$\n",
    "\\begin{align*}\n",
    "    V^{m}_{n} &= V^{m-1}_{n-1} \\left(\\alpha_n - \\beta_n \\right) \\\\\n",
    "    &+ V^{m-1}_{n} \\left(1 + r \\Delta t + 2\\beta_n \\right) \\\\\n",
    "    &+ V^{m-1}_{n+1} \\left(-\\alpha_n - \\beta_n \\right)\n",
    "\\end{align*}\n",
    "$$\n",
    "For the boundary conditions, we will use the fact that $V(t, x) = 0$ when $x \\notin [15, 25]$, which translates to $V_{N+1}^{k} = V_{0}^{k} = 0$.\n",
    "\n",
    "Note that this scheme is essentially the linear system $Av^{m-1} = v^{m}$ where the only unknown is $v^{m-1}$."
   ]
  },
  {
   "cell_type": "code",
   "execution_count": 2,
   "id": "e9218206",
   "metadata": {},
   "outputs": [],
   "source": [
    "def implicit_solver(\n",
    "        *,\n",
    "        dt: float,\n",
    "        dx: float,\n",
    "        r: float,\n",
    "        gamma: float,\n",
    "        sigma: float,\n",
    "        T: float,\n",
    "        x_range: tuple[float, float],\n",
    "        payoff: np.ndarray | None = None,\n",
    "        boundary: Callable[[int], tuple[float, float]] = lambda x: (0, 0)\n",
    ") -> np.ndarray:\n",
    "        '''\n",
    "        x_range is interpreted as `[X_min, X_max]`. Necessarily, x0 should be in x_range.\n",
    "\n",
    "        This assumes that `T / dt` and `(X_max - X_min) / dx` are integers.\n",
    "\n",
    "        Payoff is an optional parameter. If not given, then the payoff will be assumed to be 1.\n",
    "        '''\n",
    "        # initialize grid and initial conditions\n",
    "        x_min, x_max = x_range\n",
    "        M = int(T / dt)\n",
    "        N = int((x_max - x_min) / dx) + 1\n",
    "\n",
    "        grid = np.empty((N, M))\n",
    "        grid[:, -1] = payoff if payoff is not None else np.ones(N)\n",
    "\n",
    "        # find the matrix A s.t. Av^{m-1} = v^m\n",
    "        # instead of constructing A explicitly,\n",
    "        # i will use scipy's \"solve_banded\" method\n",
    "        # which requires a 3 x N matrix.\n",
    "        n = np.arange(1, N+1) # 1, 2, ..., N\n",
    "        chi = x_min + n * dx\n",
    "        alpha = (r * chi * dt) / (2 * dx)\n",
    "        beta = (sigma**2 * chi**(2 * gamma) * dt) / (2 * dx**2)\n",
    "\n",
    "        upper_diagonal = -alpha - beta\n",
    "        upper_diagonal = np.delete(upper_diagonal, -1) # remove the last term since it doesn't appear in the scheme\n",
    "        upper_diagonal = np.insert(upper_diagonal, 0, 0) # for scipy\n",
    "\n",
    "        diagonal = 1 + r * dt + 2 * beta\n",
    "\n",
    "        lower_diagonal = alpha - beta\n",
    "        lower_diagonal = np.delete(lower_diagonal, 0) # remove the first term since it doesn't appear in the scheme\n",
    "        lower_diagonal = np.append(lower_diagonal, 0) # for scipy\n",
    "\n",
    "        A_scipy = np.vstack((upper_diagonal, diagonal, lower_diagonal))\n",
    "        \n",
    "        # run the scheme\n",
    "        b = np.zeros(N)\n",
    "        for i in range(M - 1, 0, -1): # M - 1, ..., 1\n",
    "                b[0], b[-1] = boundary(i)\n",
    "                grid[:, i-1] = sp.linalg.solve_banded((1, 1), A_scipy, grid[:, i] + b)\n",
    "\n",
    "        return grid"
   ]
  },
  {
   "cell_type": "code",
   "execution_count": 3,
   "id": "09bbce80",
   "metadata": {},
   "outputs": [],
   "source": [
    "implicit_solution = implicit_solver(\n",
    "    dt=0.01,\n",
    "    dx=0.02,\n",
    "    r=0.05,\n",
    "    gamma=0.8,\n",
    "    sigma=0.4,\n",
    "    T=0.5,\n",
    "    x_range=(15, 25)\n",
    ")"
   ]
  },
  {
   "cell_type": "code",
   "execution_count": 4,
   "id": "3c8ff46a",
   "metadata": {},
   "outputs": [
    {
     "name": "stdout",
     "output_type": "stream",
     "text": [
      "Implicit: Option Price at t=0, x=20: $0.7661\n"
     ]
    },
    {
     "data": {
      "image/png": "[encoded data removed]",
      "text/plain": [
       "<Figure size 640x480 with 1 Axes>"
      ]
     },
     "metadata": {},
     "output_type": "display_data"
    }
   ],
   "source": [
    "# graph the solution\n",
    "# 20 = 15 + k 0.02 so k = 5 / 0.02 = 250\n",
    "print(f'Implicit: Option Price at t=0, x=20: ${implicit_solution[250, 0]:.4f}')\n",
    "\n",
    "ax = sns.lineplot(x=np.linspace(15, 25, 501), y=implicit_solution[:, 0])\n",
    "ax.set_xlabel('Value of Stock')\n",
    "ax.set_ylabel('Price of Option')\n",
    "ax.set_title('Implicit: Corridor Option Pricing')\n",
    "\n",
    "plt.show()"
   ]
  },
  {
   "cell_type": "markdown",
   "id": "d1a29310",
   "metadata": {},
   "source": [
    "## (b)"
   ]
  },
  {
   "cell_type": "markdown",
   "id": "88452efc",
   "metadata": {},
   "source": [
    "For the Crank-Nicolson method, we have the following discretization\n",
    "$$\n",
    "\\begin{align*}\n",
    "    &\\frac{V^{m}_{n} - V^{m-1}_{n}}{\\Delta t} +\\\\\n",
    "    &r\\chi_n \\cdot \\frac{1}{2} \\left( \\frac{V^{m-1}_{n+1} - V^{m-1}_{n-1}}{2\\Delta x} + \\frac{V^{m}_{n+1} - V^{m}_{n-1}}{2\\Delta x} \\right) +\\\\\n",
    "    &\\frac{\\sigma^2 \\chi_{n}^{2\\gamma}}{2} \\cdot \\frac{1}{2} \\left( \\frac{V^{m-1}_{n+1} - 2V^{m-1}_{n} + V^{m-1}_{n-1}}{(\\Delta x)^2} + \\frac{V^{m}_{n+1} - 2V^{m}_{n} + V^{m}_{n-1}}{(\\Delta x)^2} \\right) + \\\\ \n",
    "    &-r \\cdot \\frac{1}{2}\\left( V^{m-1}_{n}  + V^{m}_{n} \\right) = 0\n",
    "\\end{align*}\n",
    "$$"
   ]
  },
  {
   "cell_type": "markdown",
   "id": "be6507a4",
   "metadata": {},
   "source": [
    "Keeping the definitions $\\alpha_n = \\frac{r \\chi_n \\Delta t}{2\\Delta x}$, $\\beta_n = \\frac{\\sigma^2 \\chi_{n}^{2\\gamma} \\Delta t}{2\\Delta x^2}$, we have the scheme\n",
    "\n",
    "$$\n",
    "\\begin{align*}\n",
    "    &V^{m-1}_{n-1} \\left(\\frac{\\alpha_n}{2} - \\frac{\\beta_n}{2} \\right) + V^{m-1}_{n} \\left(1 + \\frac{r \\Delta t}{2} + \\beta_n \\right) + V^{m-1}_{n+1} \\left(-\\frac{\\alpha_n}{2} - \\frac{\\beta_n}{2} \\right) \\\\\n",
    "    =&V^{m}_{n-1} \\left( -\\frac{\\alpha_n}{2} + \\frac{\\beta_n}{2} \\right) + V^{m}_{n} \\left(1 - \\frac{r \\Delta t}{2} - \\beta_n \\right) + V^{m}_{n+1} \\left(\\frac{\\alpha_n}{2} + \\frac{\\beta_n}{2}\\right)\n",
    "\\end{align*}\n",
    "$$\n",
    "\n",
    "We will keep the boundary condition $V^{k}_{N+1} = V^{k}_{0} = 0$ for every $k$.\n",
    "\n",
    "Note that this scheme is essentially the linear system $Av^{m-1} = Bv^m$ where the only unknown is $v^{m-1}$"
   ]
  },
  {
   "cell_type": "code",
   "execution_count": 5,
   "id": "782c9229",
   "metadata": {},
   "outputs": [],
   "source": [
    "def crank_nicolson_solver(\n",
    "    *,\n",
    "    dt: float,\n",
    "    dx: float,\n",
    "    r: float,\n",
    "    gamma: float,\n",
    "    sigma: float,\n",
    "    T: float,\n",
    "    x_range: tuple[float, float],\n",
    "    payoff: np.ndarray | None = None,\n",
    "    boundary: Callable[[int], tuple[float, float]] = lambda x: (0, 0)\n",
    ") -> np.ndarray:\n",
    "    '''\n",
    "    x_range is interpreted as `[X_min, X_max]`. Necessarily, x0 should be in x_range.\n",
    "    This assumes that `T / dt` and `(X_max - X_min) / dx` are integers.\n",
    "    \n",
    "    Payoff is an optional parameter. If not given, then the payoff will be assumed to be 1.\n",
    "    Boundary is an optional parameter. It is a function that is given the current index and returns\n",
    "    the boundary conditions for (0, N+1), which is then added to the RHS of the linear system. Defaults to 0.\n",
    "    '''\n",
    "    # initialize grid and initial conditions\n",
    "    x_min, x_max = x_range\n",
    "    M = int(T / dt)\n",
    "    N = int((x_max - x_min) / dx) + 1\n",
    "\n",
    "    grid = np.empty((N, M))\n",
    "    grid[:, -1] = payoff if payoff is not None else np.ones(N)\n",
    "\n",
    "    # find the matrix A\n",
    "    # instead of constructing A explicitly,\n",
    "    # i will use scipy's \"solve_banded\" method\n",
    "    # which requires a 3 x N matrix.\n",
    "    n = np.arange(1, N+1) # 1, 2, ..., N\n",
    "    chi = x_min + n * dx\n",
    "    alpha = (r * chi * dt) / (2 * dx)\n",
    "    beta = (sigma**2 * chi**(2 * gamma) * dt) / (2 * dx**2)\n",
    "\n",
    "    A_upper_diagonal = (-alpha - beta) / 2\n",
    "    A_upper_diagonal = np.delete(A_upper_diagonal, -1) # remove the last term since it doesn't appear in the scheme\n",
    "\n",
    "    A_diagonal = 1 + r * dt / 2 + beta\n",
    "\n",
    "    A_lower_diagonal = (alpha - beta) / 2\n",
    "    A_lower_diagonal = np.delete(A_lower_diagonal, 0) # remove the first term since it doesn't appear in the scheme\n",
    "\n",
    "    A_scipy = np.vstack( # the modifications of the diagonals is purely for formatting purposes\n",
    "        (\n",
    "            np.insert(A_upper_diagonal, 0, 0), \n",
    "            A_diagonal, \n",
    "            np.append(A_lower_diagonal, 0)\n",
    "        )\n",
    "    )\n",
    "\n",
    "    # now construct B\n",
    "    B_upper_diagonal = -A_upper_diagonal\n",
    "    B_diagonal = 1 - r * dt / 2 - beta\n",
    "    B_lower_diagonal = -A_lower_diagonal\n",
    "\n",
    "    B = np.diag(B_diagonal) + np.diag(B_upper_diagonal, k=1) + np.diag(B_lower_diagonal, k=-1)\n",
    "\n",
    "    b = np.zeros(N)\n",
    "    for i in range(M - 1, 0, -1): # M - 1, ..., 1\n",
    "        b[0], b[-1] = boundary(i)\n",
    "        grid[:, i-1] = sp.linalg.solve_banded((1, 1), A_scipy, B @ grid[:, i] + b)\n",
    "\n",
    "    return grid"
   ]
  },
  {
   "cell_type": "code",
   "execution_count": 6,
   "id": "547fb7aa",
   "metadata": {},
   "outputs": [],
   "source": [
    "cn_solution = crank_nicolson_solver(\n",
    "    dt=0.01,\n",
    "    dx=0.02,\n",
    "    r=0.05,\n",
    "    gamma=0.8,\n",
    "    sigma=0.4,\n",
    "    T=0.5,\n",
    "    x_range=(15, 25)\n",
    ")"
   ]
  },
  {
   "cell_type": "code",
   "execution_count": 7,
   "id": "ab916492",
   "metadata": {},
   "outputs": [
    {
     "name": "stdout",
     "output_type": "stream",
     "text": [
      "Crank-Nicolson: Option Price at t=0, x=20: $0.7653\n"
     ]
    },
    {
     "data": {
      "image/png": "[encoded data removed]",
      "text/plain": [
       "<Figure size 640x480 with 1 Axes>"
      ]
     },
     "metadata": {},
     "output_type": "display_data"
    }
   ],
   "source": [
    "# graph the solution\n",
    "# 20 = 15 + k 0.02 so k = 5 / 0.02 = 250\n",
    "print(f'Crank-Nicolson: Option Price at t=0, x=20: ${cn_solution[250, 0]:.4f}')\n",
    "\n",
    "ax = sns.lineplot(x=np.linspace(15, 25, 501), y=cn_solution[:, 0])\n",
    "ax.set_xlabel('Value of Stock')\n",
    "ax.set_ylabel('Price of Option')\n",
    "ax.set_title('Crank-Nicolson: Option Pricing')\n",
    "\n",
    "plt.show()"
   ]
  },
  {
   "cell_type": "markdown",
   "id": "1fcd9ac1",
   "metadata": {},
   "source": [
    "*I additionally tested this on a BS Call and it worked fine, so the implementation is good*\n",
    "\n",
    "We note that there is some numerical instability since, for $\\Delta t = 0.01$ and $\\Delta x = 0.02$, $\\frac{\\Delta t}{\\Delta x^2} = 25 > \\frac{1}{2}$. Despite this, both solvers are within 1 cent of each other at $V(0, 20)$, so they perform roughly the same in this region (with the implicit solver having better global performance). Compared to Q1 from HW1, this performance is within 5 cents of the antithetic sampler, so they are performing very similarly."
   ]
  },
  {
   "cell_type": "markdown",
   "id": "5757946d",
   "metadata": {},
   "source": [
    "## (c)"
   ]
  },
  {
   "cell_type": "markdown",
   "id": "3f24db58",
   "metadata": {},
   "source": [
    "To simulate the compound option, we first must simulate the underlying call option prices. This has payoff\n",
    "\n",
    "$$\n",
    "    \\max\\{ x - 20, 0\\}\n",
    "$$\n",
    "\n",
    "I will use the boundary condition $\\frac{\\partial^2 C}{\\partial x^2} = 0$ on both boundaries, as this condition makes intuitive sense since call options become roughly linear at the endpoints, and the price of a CEV call has no closed form. This amounts to $C^{k}_{N+1} = 2C^{k}_{N} - C^{k}_{N-1}$, $C^{k}_{0} = 2C^{k}_{1} - C^{k}_{2}$.\n",
    "\n",
    "Moreover, I will use the range $[10, 30]$, $\\Delta x = 0.02, \\Delta t = 0.01$. This amounts to 1001 points for $x$"
   ]
  },
  {
   "cell_type": "code",
   "execution_count": 8,
   "id": "e79052d0",
   "metadata": {},
   "outputs": [],
   "source": [
    "# the 2nd derivative condition requires me to directly edit the matrix unfortunately,\n",
    "# so i have to slightly modify them in the solver\n",
    "def compound_implicit_solver(\n",
    "        *,\n",
    "        dt: float,\n",
    "        dx: float,\n",
    "        r: float,\n",
    "        gamma: float,\n",
    "        sigma: float,\n",
    "        T: float,\n",
    "        x_range: tuple[float, float],\n",
    "        payoff: np.ndarray | None = None,\n",
    "        boundary: Callable[[int], tuple[float, float]] = lambda x: (0, 0)\n",
    ") -> np.ndarray:\n",
    "        '''\n",
    "        x_range is interpreted as `[X_min, X_max]`. Necessarily, x0 should be in x_range.\n",
    "\n",
    "        This assumes that `T / dt` and `(X_max - X_min) / dx` are integers.\n",
    "\n",
    "        Payoff is an optional parameter. If not given, then the payoff will be assumed to be 1.\n",
    "        '''\n",
    "        # initialize grid and initial conditions\n",
    "        x_min, x_max = x_range\n",
    "        M = int(T / dt)\n",
    "        N = int((x_max - x_min) / dx) + 1\n",
    "\n",
    "        grid = np.empty((N, M))\n",
    "        grid[:, -1] = payoff if payoff is not None else np.ones(N)\n",
    "\n",
    "        # find the matrix A s.t. Av^{m-1} = v^m\n",
    "        # instead of constructing A explicitly,\n",
    "        # i will use scipy's \"solve_banded\" method\n",
    "        # which requires a 3 x N matrix.\n",
    "        n = np.arange(1, N+1) # 1, 2, ..., N\n",
    "        chi = x_min + n * dx\n",
    "        alpha = (r * chi * dt) / (2 * dx)\n",
    "        beta = (sigma**2 * chi**(2 * gamma) * dt) / (2 * dx**2)\n",
    "\n",
    "        upper_diagonal = -alpha - beta\n",
    "        c_upper_term = upper_diagonal[-1]\n",
    "        upper_diagonal = np.delete(upper_diagonal, -1) # remove the last term since it doesn't appear in the scheme\n",
    "        upper_diagonal = np.insert(upper_diagonal, 0, 0) # for scipy\n",
    "\n",
    "        diagonal = 1 + r * dt + 2 * beta\n",
    "\n",
    "        lower_diagonal = alpha - beta\n",
    "        c_lower_term = lower_diagonal[0]\n",
    "        lower_diagonal = np.delete(lower_diagonal, 0) # remove the first term since it doesn't appear in the scheme\n",
    "        lower_diagonal = np.append(lower_diagonal, 0) # for scipy\n",
    "\n",
    "        # incorporate the boundary conditions into A\n",
    "        # upper boundary\n",
    "        diagonal[-1] += 2 * c_upper_term\n",
    "        lower_diagonal[-2] -= c_upper_term\n",
    "\n",
    "        # lower boundary\n",
    "        diagonal[0] += 2 * c_lower_term\n",
    "        upper_diagonal[1] -= c_lower_term\n",
    "        A_scipy = np.vstack((upper_diagonal, diagonal, lower_diagonal))\n",
    "        \n",
    "        # run the scheme\n",
    "        b = np.zeros(N)\n",
    "        for i in range(M - 1, 0, -1): # M - 1, ..., 1\n",
    "                b[0], b[-1] = boundary(i)\n",
    "                grid[:, i-1] = sp.linalg.solve_banded((1, 1), A_scipy, grid[:, i] + b)\n",
    "\n",
    "        return grid"
   ]
  },
  {
   "cell_type": "code",
   "execution_count": 9,
   "id": "2634cee2",
   "metadata": {},
   "outputs": [],
   "source": [
    "def compound_crank_nicolson_solver(\n",
    "    *,\n",
    "    dt: float,\n",
    "    dx: float,\n",
    "    r: float,\n",
    "    gamma: float,\n",
    "    sigma: float,\n",
    "    T: float,\n",
    "    x_range: tuple[float, float],\n",
    "    payoff: np.ndarray | None = None,\n",
    "    boundary: Callable[[int], tuple[float, float]] = lambda x: (0, 0)\n",
    ") -> np.ndarray:\n",
    "    '''\n",
    "    x_range is interpreted as `[X_min, X_max]`. Necessarily, x0 should be in x_range.\n",
    "    This assumes that `T / dt` and `(X_max - X_min) / dx` are integers.\n",
    "    \n",
    "    Payoff is an optional parameter. If not given, then the payoff will be assumed to be 1.\n",
    "    Boundary is an optional parameter. It is a function that is given the current index and returns\n",
    "    the boundary conditions for (0, N+1), which is then added to the RHS of the linear system. Defaults to 0.\n",
    "    '''\n",
    "    # initialize grid and initial conditions\n",
    "    x_min, x_max = x_range\n",
    "    M = int(T / dt)\n",
    "    N = int((x_max - x_min) / dx) + 1\n",
    "\n",
    "    grid = np.empty((N, M))\n",
    "    grid[:, -1] = payoff if payoff is not None else np.ones(N)\n",
    "\n",
    "    # find the matrix A\n",
    "    # instead of constructing A explicitly,\n",
    "    # i will use scipy's \"solve_banded\" method\n",
    "    # which requires a 3 x N matrix.\n",
    "    n = np.arange(1, N+1) # 1, 2, ..., N\n",
    "    chi = x_min + n * dx\n",
    "    alpha = (r * chi * dt) / (2 * dx)\n",
    "    beta = (sigma**2 * chi**(2 * gamma) * dt) / (2 * dx**2)\n",
    "\n",
    "    A_upper_diagonal = (-alpha - beta) / 2\n",
    "    c_upper_term = A_upper_diagonal[-1]\n",
    "    A_upper_diagonal = np.delete(A_upper_diagonal, -1) # remove the last term since it doesn't appear in the scheme\n",
    "\n",
    "    A_diagonal = 1 + r * dt / 2 + beta\n",
    "\n",
    "    A_lower_diagonal = (alpha - beta) / 2\n",
    "    c_lower_term = A_lower_diagonal[0]\n",
    "    A_lower_diagonal = np.delete(A_lower_diagonal, 0) # remove the first term since it doesn't appear in the scheme\n",
    "\n",
    "    # incorporate the boundary conditions into A\n",
    "    # upper boundary\n",
    "    A_diagonal[-1] += 2 * c_upper_term\n",
    "    A_lower_diagonal[-1] -= c_upper_term\n",
    "\n",
    "    # lower boundary\n",
    "    A_diagonal[0] += 2 * c_lower_term\n",
    "    A_upper_diagonal[1] -= c_lower_term\n",
    "\n",
    "    A_scipy = np.vstack( # the modifications of the diagonals is purely for formatting purposes\n",
    "        (\n",
    "            np.insert(A_upper_diagonal, 0, 0), \n",
    "            A_diagonal, \n",
    "            np.append(A_lower_diagonal, 0)\n",
    "        )\n",
    "    )\n",
    "\n",
    "    # now construct B\n",
    "    B_upper_diagonal = -A_upper_diagonal\n",
    "    B_diagonal = 1 - r * dt / 2 - beta\n",
    "    B_lower_diagonal = -A_lower_diagonal\n",
    "\n",
    "    B = np.diag(B_diagonal) + np.diag(B_upper_diagonal, k=1) + np.diag(B_lower_diagonal, k=-1)\n",
    "\n",
    "    b = np.zeros(N)\n",
    "    for i in range(M - 1, 0, -1): # M - 1, ..., 1\n",
    "        b[0], b[-1] = boundary(i)\n",
    "        grid[:, i-1] = sp.linalg.solve_banded((1, 1), A_scipy, B @ grid[:, i] + b)\n",
    "\n",
    "    return grid"
   ]
  },
  {
   "cell_type": "code",
   "execution_count": 10,
   "id": "f48e15b2",
   "metadata": {},
   "outputs": [],
   "source": [
    "payoff = np.linspace(10, 30, 1001) - 20\n",
    "payoff[payoff < 0] = 0 \n",
    "\n",
    "implicit_call_prices = compound_implicit_solver(\n",
    "    dt=0.01,\n",
    "    dx=0.02,\n",
    "    r=0.05,\n",
    "    gamma=0.8,\n",
    "    sigma=0.4,\n",
    "    T=0.5,\n",
    "    x_range=(10, 30),\n",
    "    payoff=payoff\n",
    ")\n",
    "\n",
    "cn_call_prices = compound_crank_nicolson_solver(\n",
    "    dt=0.01,\n",
    "    dx=0.02,\n",
    "    r=0.05,\n",
    "    gamma=0.8,\n",
    "    sigma=0.4,\n",
    "    T=0.5,\n",
    "    x_range=(10, 30),\n",
    "    payoff=payoff\n",
    ")"
   ]
  },
  {
   "cell_type": "code",
   "execution_count": 11,
   "id": "532da436",
   "metadata": {},
   "outputs": [
    {
     "data": {
      "text/plain": [
       "<Axes: >"
      ]
     },
     "execution_count": 11,
     "metadata": {},
     "output_type": "execute_result"
    },
    {
     "data": {
      "image/png": "[encoded data removed]",
      "text/plain": [
       "<Figure size 640x480 with 1 Axes>"
      ]
     },
     "metadata": {},
     "output_type": "display_data"
    }
   ],
   "source": [
    "sns.lineplot(x=np.linspace(10, 30, 1001), y=implicit_call_prices[:, 40])"
   ]
  },
  {
   "cell_type": "markdown",
   "id": "8678d84b",
   "metadata": {},
   "source": [
    "Now for the compound option $K$, we will use the payoff\n",
    "\n",
    "$$\n",
    "    \\max\\{c - 2, 0\\}\n",
    "$$\n",
    "Where $c$ is the price of the call option at $t = 1/4$. Note that $k\\Delta t = 1/4 \\iff k = \\frac{1}{4\\Delta t} = 25$ "
   ]
  },
  {
   "cell_type": "code",
   "execution_count": null,
   "id": "3426b5f4",
   "metadata": {},
   "outputs": [
    {
     "data": {
      "text/plain": [
       "'\\ncn_implicit_prices = compound_crank_nicolson_solver(\\n    dt=0.01,\\n    dx=0.02,\\n    r=0.05,\\n    gamma=0.8,\\n    sigma=0.4,\\n    T=0.25,\\n    x_range=(10, 30),\\n    payoff=implicit_payoff\\n)\\n'"
      ]
     },
     "execution_count": 12,
     "metadata": {},
     "output_type": "execute_result"
    }
   ],
   "source": [
    "implicit_payoff = implicit_call_prices[:, 24] - 2\n",
    "implicit_payoff[implicit_payoff < 0] = 0\n",
    "\n",
    "cn_payoff = cn_call_prices[:, 24] - 2\n",
    "cn_payoff[cn_payoff < 0] = 0\n",
    "\n",
    "compound_implicit_prices = compound_implicit_solver(\n",
    "    dt=0.01,\n",
    "    dx=0.02,\n",
    "    r=0.05,\n",
    "    gamma=0.8,\n",
    "    sigma=0.4,\n",
    "    T=0.25,\n",
    "    x_range=(10, 30),\n",
    "    payoff=implicit_payoff\n",
    ")\n",
    "\n",
    "'''\n",
    "cn_implicit_prices = compound_crank_nicolson_solver(\n",
    "    dt=0.01,\n",
    "    dx=0.02,\n",
    "    r=0.05,\n",
    "    gamma=0.8,\n",
    "    sigma=0.4,\n",
    "    T=0.25,\n",
    "    x_range=(10, 30),\n",
    "    payoff=cn_payoff\n",
    ")\n",
    "'''"
   ]
  },
  {
   "cell_type": "code",
   "execution_count": 16,
   "id": "48b07c64",
   "metadata": {},
   "outputs": [
    {
     "data": {
      "text/plain": [
       "<Axes: >"
      ]
     },
     "execution_count": 16,
     "metadata": {},
     "output_type": "execute_result"
    },
    {
     "data": {
      "image/png": "[encoded data removed]",
      "text/plain": [
       "<Figure size 640x480 with 1 Axes>"
      ]
     },
     "metadata": {},
     "output_type": "display_data"
    }
   ],
   "source": [
    "sns.lineplot(x=np.linspace(10, 30, 1001), y=compound_implicit_prices[:, 0])"
   ]
  },
  {
   "cell_type": "markdown",
   "id": "98f9d2ea",
   "metadata": {},
   "source": [
    "# Question 2"
   ]
  },
  {
   "cell_type": "markdown",
   "id": "fd74e280",
   "metadata": {},
   "source": [
    "## (a)"
   ]
  },
  {
   "cell_type": "markdown",
   "id": "91e83e62",
   "metadata": {},
   "source": [
    "For the model\n",
    "$$\n",
    "    \\begin{align*}\n",
    "        &dS_t = rS_t dt + S_t \\sqrt{V_t} dW^{1}_t \\\\\n",
    "        &dV_t = \\kappa (\\theta - V_t) dt + \\eta \\sqrt{V_t} dW^{2}_t \\\\\n",
    "        &d\\langle W^{1}_{t}, W^{2}_t \\rangle = \\rho\n",
    "    \\end{align*}\n",
    "$$\n",
    "\n",
    "We have that the price for a Put option $P(t, s, v)$ satisfies\n",
    "$$\n",
    "    \\begin{align*}\n",
    "        &\\frac{\\partial P}{\\partial t} + rs \\frac{\\partial P}{\\partial s} + s^2 v \\frac{\\partial^2 P}{\\partial s^2} +\\\\\n",
    "        &\\kappa(\\theta - v) \\frac{\\partial P}{\\partial v} + \\eta^2 v \\frac{\\partial^2 P}{\\partial v^2} + \\rho \\eta sv \\frac{\\partial^2 P}{\\partial s \\partial v} - rP = 0\n",
    "    \\end{align*}\n",
    "$$"
   ]
  }
 ],
 "metadata": {
  "kernelspec": {
   "display_name": "Python 3",
   "language": "python",
   "name": "python3"
  },
  "language_info": {
   "codemirror_mode": {
    "name": "ipython",
    "version": 3
   },
   "file_extension": ".py",
   "mimetype": "text/x-python",
   "name": "python",
   "nbconvert_exporter": "python",
   "pygments_lexer": "ipython3",
   "version": "3.13.3"
  }
 },
 "nbformat": 4,
 "nbformat_minor": 5
}
