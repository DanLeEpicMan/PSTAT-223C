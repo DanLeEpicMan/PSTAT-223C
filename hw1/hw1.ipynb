{
 "cells": [
  {
   "cell_type": "code",
   "execution_count": 2,
   "id": "86d1bdb1",
   "metadata": {},
   "outputs": [
    {
     "name": "stdout",
     "output_type": "stream",
     "text": [
      "Python 3.13.3\n"
     ]
    }
   ],
   "source": [
    "!python -V\n",
    "import numpy as np\n",
    "import seaborn as sns\n",
    "import time\n",
    "from typing import Callable\n",
    "\n",
    "rng = np.random.default_rng(1234)"
   ]
  },
  {
   "cell_type": "markdown",
   "id": "8006bd88",
   "metadata": {},
   "source": [
    "# Question 1"
   ]
  },
  {
   "cell_type": "markdown",
   "id": "0d9f4232",
   "metadata": {},
   "source": [
    "*Note: I had originally written this code unparallelized, so the run times for Question 1 are abysmally long. The code works fine, but ideally I would parallelize everything. Questions 2 and 3 are parallelized, and under ideal conditions I would rewrite this code, however my Week 4 has been extremely busy.*"
   ]
  },
  {
   "cell_type": "markdown",
   "id": "297947d8",
   "metadata": {},
   "source": [
    "## (a)\n",
    "\n",
    "For a general Ito process $dX_t = a(t, X_t) dt + b(t, X_t) dW_t$, we recall that the Milstein scheme is given by\n",
    "\n",
    "$$\n",
    "\\hat{X}_{n+1} = \\hat{X}_n + a(t_n, \\hat{X}_n) \\Delta t + b(t_n, \\hat{X}_n) \\Delta W_{n+1} + b_x (t_n, \\hat{X}_n) b(t_n, \\hat{X}_n) \\left( \\frac{(\\Delta W_{n+1})^2 - \\Delta t}{2} \\right)\n",
    "$$\n",
    "Where $\\Delta W_{n} \\overset{\\mathrm{iid}}{\\sim} \\mathcal{N}(0, \\Delta t)$\n",
    "\n",
    "Therefore, for $dV_t = \\kappa (\\theta - V_t) dt + \\eta \\sqrt{V_t} dW_t$ we have that its Milstein scheme is given by\n",
    "\n",
    "$$\n",
    "    \\begin{align*}\n",
    "        \\hat{V}_{n+1} &= \\hat{V}_n + \\kappa (\\theta - \\hat{V}_n) \\Delta t + \\eta \\sqrt{\\hat{V}_n} \\Delta W_{n+1} + \\frac{\\eta}{2 \\sqrt{\\hat{V}_n}} \\cdot \\eta \\sqrt{\\hat{V}_n} \\left( \\frac{(\\Delta W_{n+1})^2 - \\Delta t}{2} \\right) \\\\\n",
    "        &= \\hat{V}_n + \\kappa (\\theta - \\hat{V}_n) \\Delta t + \\eta \\sqrt{\\hat{V}_n} \\Delta W_{n+1} + \\frac{\\eta^2}{4} \\left( (\\Delta W_{n+1})^2 - \\Delta t \\right)\n",
    "    \\end{align*} \n",
    "$$"
   ]
  },
  {
   "cell_type": "markdown",
   "id": "b12c96c8",
   "metadata": {},
   "source": [
    "## (b)"
   ]
  },
  {
   "cell_type": "code",
   "execution_count": 15,
   "id": "3a37f542",
   "metadata": {},
   "outputs": [],
   "source": [
    "def euler_euler_path(\n",
    "    *,\n",
    "    dt: float,\n",
    "    T: float,\n",
    "    r: float,\n",
    "    kappa: float,\n",
    "    theta: float,\n",
    "    eta: float,\n",
    "    s0: float,\n",
    "    v0: float,\n",
    "    rho: float\n",
    ") -> tuple[np.ndarray, np.ndarray]:\n",
    "    '''\n",
    "    Simulates one path by performing Euler-Mayurama for both St, Vt.\n",
    "    Returns a tuple (St, Vt).\n",
    "\n",
    "    Note that this assumes that `T = k * dt` for some integer `k`.\n",
    "    Thus, this simulates `k` steps.\n",
    "    '''\n",
    "    total_runs = int(T / dt)\n",
    "    s_path = np.empty(total_runs)\n",
    "    v_path = np.empty(total_runs)\n",
    "    s_path[0], v_path[0] = s0, v0\n",
    "\n",
    "    sqrt_dt = np.sqrt(dt)\n",
    "    # simulate each path (skip first step since that's done above)\n",
    "    for i in range(1, total_runs):\n",
    "        # first, correlate the brownian motions\n",
    "        b1, b2 = rng.normal(loc=0, scale=sqrt_dt, size=2)\n",
    "        w1, w2 = b1, rho * b1 + np.sqrt(1 - rho**2) * b2\n",
    "\n",
    "        if v_path[i-1] < 0: # prevent errors from negative v_p.\n",
    "            v_path[i-1] = 0\n",
    "        # simulate s\n",
    "        s_path[i] = s_path[i-1] + r * s_path[i-1] * dt + s_path[i-1] * np.sqrt(v_path[i-1]) * w1\n",
    "\n",
    "        # simulate v (using euler)\n",
    "        v_path[i] = v_path[i-1] + kappa * (theta - v_path[i-1]) * dt + eta * np.sqrt(v_path[i-1]) * w2\n",
    "\n",
    "    return s_path, v_path\n"
   ]
  },
  {
   "cell_type": "code",
   "execution_count": 16,
   "id": "2f866c72",
   "metadata": {},
   "outputs": [],
   "source": [
    "def euler_milstein_path(\n",
    "    *,\n",
    "    dt: float,\n",
    "    T: float,\n",
    "    r: float,\n",
    "    kappa: float,\n",
    "    theta: float,\n",
    "    eta: float,\n",
    "    s0: float,\n",
    "    v0: float,\n",
    "    rho: float\n",
    ") -> tuple[np.ndarray, np.ndarray]:\n",
    "    '''\n",
    "    Simulates one path by performing Euler-Mayurama for St, Milstein for Vt.\n",
    "    Returns a tuple (St, Vt).\n",
    "\n",
    "    Note that this assumes that `T = k * dt` for some integer `k`.\n",
    "    '''\n",
    "    total_runs = int(T / dt)\n",
    "    s_path = np.empty(total_runs)\n",
    "    v_path = np.empty(total_runs)\n",
    "    s_path[0], v_path[0] = s0, v0\n",
    "\n",
    "    sqrt_dt = np.sqrt(dt)\n",
    "    # simulate each path (skip first step since that's done above)\n",
    "    for i in range(1, total_runs):\n",
    "        # first, correlate the brownian motions\n",
    "        b1, b2 = rng.normal(loc=0, scale=sqrt_dt, size=2)\n",
    "        w1, w2 = b1, rho * b1 + np.sqrt(1 - rho**2) * b2\n",
    "\n",
    "        if v_path[i-1] < 0: # prevent errors from negative v_p.\n",
    "            v_path[i-1] = 0\n",
    "        # simulate s\n",
    "        s_path[i] = s_path[i-1] + r * s_path[i-1] * dt + s_path[i-1] * np.sqrt(v_path[i-1]) * w1\n",
    "\n",
    "        # simulate v (using milstein)\n",
    "        v_path[i] = v_path[i-1] + kappa * (theta - v_path[i-1]) * dt + eta * np.sqrt(v_path[i-1]) * w2 + (eta**2 / 4) * (w2**2 - dt)\n",
    "\n",
    "    return s_path, v_path"
   ]
  },
  {
   "cell_type": "code",
   "execution_count": 17,
   "id": "7fadf10d",
   "metadata": {},
   "outputs": [],
   "source": [
    "def generate_mc_samples(\n",
    "    M: int,\n",
    "    method: Callable[..., tuple[np.ndarray, np.ndarray]],\n",
    "    **kwargs\n",
    ") -> np.ndarray:\n",
    "    '''\n",
    "    Generate `M` samples using `method`. \n",
    "    Returns a 2d array, where each row is a simulation of `St`.\n",
    "    \n",
    "    `kwargs` are passed into `method`. Note that `dt = 1 / path_size`.\n",
    "    '''\n",
    "    s_paths = np.array([method(**kwargs)[0] for _ in range(M)])\n",
    "    \n",
    "    return s_paths"
   ]
  },
  {
   "cell_type": "code",
   "execution_count": 18,
   "id": "ea1d7250",
   "metadata": {},
   "outputs": [
    {
     "name": "stdout",
     "output_type": "stream",
     "text": [
      "Euler-Euler scheme with r = 1\n",
      "\n",
      "Time elapsed: 91.17 seconds\n",
      "\n",
      "Put Option: Simulation with r=1\n",
      "95% confidence interval: [15.41, 15.67]\n",
      "99% confidence interval: [15.37, 15.71]\n",
      "\n",
      "Asian Option: Simulation with r=1\n",
      "95% confidence interval: [19.15, 19.57]\n",
      "99% confidence interval: [19.09, 19.64]\n",
      "\n",
      "Euler-Milstein scheme with r=1\n",
      "Time elapsed: 125.78 seconds\n",
      "\n",
      "Put Option: Simulation with r=1\n",
      "95% confidence interval: [15.39, 15.64]\n",
      "99% confidence interval: [15.35, 15.68]\n",
      "\n",
      "Asian Option: Simulation with r=1\n",
      "95% confidence interval: [19.01, 19.43]\n",
      "99% confidence interval: [18.95, 19.49]\n",
      "-----------------------------------\n",
      "Euler-Euler scheme with r = 2\n",
      "\n",
      "Time elapsed: 237.45 seconds\n",
      "\n",
      "Put Option: Simulation with r=2\n",
      "95% confidence interval: [15.37, 15.63]\n",
      "99% confidence interval: [15.33, 15.67]\n",
      "\n",
      "Asian Option: Simulation with r=2\n",
      "95% confidence interval: [18.95, 19.36]\n",
      "99% confidence interval: [18.88, 19.43]\n",
      "\n",
      "Euler-Milstein scheme with r=2\n",
      "Time elapsed: 254.67 seconds\n",
      "\n",
      "Put Option: Simulation with r=2\n",
      "95% confidence interval: [15.52, 15.77]\n",
      "99% confidence interval: [15.48, 15.81]\n",
      "\n",
      "Asian Option: Simulation with r=2\n",
      "95% confidence interval: [19.08, 19.50]\n",
      "99% confidence interval: [19.01, 19.56]\n",
      "-----------------------------------\n",
      "Euler-Euler scheme with r = 3\n",
      "\n",
      "Time elapsed: 497.00 seconds\n",
      "\n",
      "Put Option: Simulation with r=3\n",
      "95% confidence interval: [15.46, 15.71]\n",
      "99% confidence interval: [15.42, 15.75]\n",
      "\n",
      "Asian Option: Simulation with r=3\n",
      "95% confidence interval: [19.09, 19.51]\n",
      "99% confidence interval: [19.02, 19.57]\n",
      "\n",
      "Euler-Milstein scheme with r=3\n",
      "Time elapsed: 489.54 seconds\n",
      "\n",
      "Put Option: Simulation with r=3\n",
      "95% confidence interval: [15.47, 15.73]\n",
      "99% confidence interval: [15.43, 15.77]\n",
      "\n",
      "Asian Option: Simulation with r=3\n",
      "95% confidence interval: [19.28, 19.70]\n",
      "99% confidence interval: [19.21, 19.77]\n",
      "-----------------------------------\n",
      "Euler-Euler scheme with r = 4\n",
      "\n",
      "Time elapsed: 676.39 seconds\n",
      "\n",
      "Put Option: Simulation with r=4\n",
      "95% confidence interval: [15.49, 15.75]\n",
      "99% confidence interval: [15.45, 15.79]\n",
      "\n",
      "Asian Option: Simulation with r=4\n",
      "95% confidence interval: [19.20, 19.62]\n",
      "99% confidence interval: [19.13, 19.68]\n",
      "\n",
      "Euler-Milstein scheme with r=4\n",
      "Time elapsed: 667.30 seconds\n",
      "\n",
      "Put Option: Simulation with r=4\n",
      "95% confidence interval: [15.45, 15.71]\n",
      "99% confidence interval: [15.41, 15.75]\n",
      "\n",
      "Asian Option: Simulation with r=4\n",
      "95% confidence interval: [19.10, 19.51]\n",
      "99% confidence interval: [19.03, 19.58]\n",
      "-----------------------------------\n"
     ]
    }
   ],
   "source": [
    "# now compute desired statistics for each simulation\n",
    "\n",
    "# parameters\n",
    "M       = int(1e5)\n",
    "K       = 100\n",
    "Nt      = 52\n",
    "T       = 1\n",
    "r       = 0.05\n",
    "kappa   = 1\n",
    "theta   = 0.2\n",
    "eta     = 0.5\n",
    "rho     = -0.4\n",
    "s0      = 100\n",
    "v0      = 0.25\n",
    "\n",
    "def print_summary_stats(\n",
    "    paths: np.ndarray,\n",
    "    exponent_term: int\n",
    "):\n",
    "    '''\n",
    "    Given `paths`, print the summary statistics for each option\n",
    "    '''\n",
    "    # compute put option samples\n",
    "    put_samples: np.ndarray = np.exp(-r * T) * (K - paths[:, -1])\n",
    "    put_samples[put_samples < 0] = 0\n",
    "\n",
    "    put_mean = put_samples.mean()\n",
    "    put_width = put_samples.std(mean=put_mean) / np.sqrt(len(put_samples))\n",
    "    print(\n",
    "        f'\\nPut Option: Simulation with r={exponent_term}',\n",
    "        f'95% confidence interval: [{put_mean - 1.96 * put_width:.2f}, {put_mean + 1.96 * put_width:.2f}]',\n",
    "        f'99% confidence interval: [{put_mean - 2.57 * put_width:.2f}, {put_mean + 2.57 * put_width:.2f}]',\n",
    "        sep='\\n'\n",
    "    )\n",
    "\n",
    "    # compute asian option samples\n",
    "    asian_samples: np.ndarray = np.exp(-r * T) * (paths[:, -1] - paths[:, ::2**exponent_term].mean())\n",
    "    asian_samples[asian_samples < 0] = 0\n",
    "\n",
    "    asian_mean = asian_samples.mean()\n",
    "    asian_width = asian_samples.std(mean=asian_mean) / np.sqrt(len(asian_samples))\n",
    "    print(\n",
    "        f'\\nAsian Option: Simulation with r={exponent_term}',\n",
    "        f'95% confidence interval: [{asian_mean - 1.96 * asian_width:.2f}, {asian_mean + 1.96 * asian_width:.2f}]',\n",
    "        f'99% confidence interval: [{asian_mean - 2.57 * asian_width:.2f}, {asian_mean + 2.57 * asian_width:.2f}]',\n",
    "        sep='\\n'\n",
    "    )\n",
    "\n",
    "for exponent_term in range(1, 5):\n",
    "    # start with euler-euler simulations\n",
    "    print(f'Euler-Euler scheme with r = {exponent_term}\\n')\n",
    "    ee_start_time = time.time()\n",
    "    ee_s_paths = generate_mc_samples(\n",
    "        M=M, \n",
    "        method=euler_euler_path,\n",
    "        dt=1 / (52 * 2 ** exponent_term),\n",
    "        T=1,\n",
    "        r=r,\n",
    "        kappa=kappa,\n",
    "        theta=theta,\n",
    "        eta=eta,\n",
    "        rho=rho,\n",
    "        s0=s0,\n",
    "        v0=v0\n",
    "    )\n",
    "    ee_end_time = time.time()\n",
    "    print(f'Time elapsed: {ee_end_time - ee_start_time:.2f} seconds')\n",
    "    print_summary_stats(\n",
    "        ee_s_paths,\n",
    "        exponent_term=exponent_term\n",
    "    )\n",
    "\n",
    "\n",
    "    print(f'\\nEuler-Milstein scheme with r={exponent_term}')\n",
    "    em_start_time = time.time()\n",
    "    em_s_paths = generate_mc_samples(\n",
    "        M=M, \n",
    "        method=euler_milstein_path,\n",
    "        dt=1 / (52 * 2 ** exponent_term),\n",
    "        T=1,\n",
    "        r=r,\n",
    "        kappa=kappa,\n",
    "        theta=theta,\n",
    "        eta=eta,\n",
    "        rho=rho,\n",
    "        s0=s0,\n",
    "        v0=v0\n",
    "    )\n",
    "    em_end_time = time.time()\n",
    "    print(f'Time elapsed: {em_end_time - em_start_time:.2f} seconds')\n",
    "    print_summary_stats(\n",
    "        em_s_paths,\n",
    "        exponent_term=exponent_term\n",
    "    )\n",
    "    print('-----------------------------------')\n",
    "\n",
    "    # compute euler-euler put option samples"
   ]
  },
  {
   "cell_type": "markdown",
   "id": "a3f05300",
   "metadata": {},
   "source": [
    "## (c)\n",
    "\n",
    "The first observation to make is that the Euler-Euler (EE) and Euler-Milstein (EM) schemes take roughly the same amount of time to compute sample paths. While EE is faster for small $r$, this gap closes as $r$ increases.\n",
    "\n",
    "Secondly, as $\\Delta t \\to 0$ the convergence is very slow. The accuracy for the Put option of EE improves to 5 cents then stays roughly constant. For the Asian option EE, the range stays roughly at 40 cents each iteration.\n",
    "\n",
    "For EM, the convergence is also slow. The Asian 95 interval width is 42 cents for $r=1$, improving to 41 cents for $r=4$.\n",
    "\n",
    "Lastly, as for how the two methods compare to each other, they perform roughly the same each iteration, where the width of the 95 intervals don't change by very much."
   ]
  },
  {
   "cell_type": "markdown",
   "id": "0dcf20d3",
   "metadata": {},
   "source": [
    "# Question 2"
   ]
  },
  {
   "cell_type": "markdown",
   "id": "3a5e71e3",
   "metadata": {},
   "source": [
    "## (a)"
   ]
  },
  {
   "cell_type": "code",
   "execution_count": 61,
   "id": "dbce67e1",
   "metadata": {},
   "outputs": [],
   "source": [
    "# set parameters\n",
    "T = 2\n",
    "r = 0.05\n",
    "mu = 0.25\n",
    "sig = 0.25\n",
    "lam = 6\n",
    "zeta = 50\n",
    "gamma = -1.5\n",
    "dt = 0.02\n",
    "M = 10000\n",
    "\n",
    "rng = np.random.default_rng(1234)"
   ]
  },
  {
   "cell_type": "markdown",
   "id": "2a01bda3",
   "metadata": {},
   "source": [
    "First, we compute the dynamics of $X_t$. We have that\n",
    "\n",
    "$$\n",
    "\\begin{align*}\n",
    "    dS_t &= \\mu S_t dt + \\sigma S_t dW_t - S_{t-} dJ_t \\\\\n",
    "    dB_t &= r B_t dt \\\\\n",
    "    dX_t &= \\pi X_t \\frac{dS}{S_t} + (1 - \\pi) X_t \\frac{dB_t}{B_t}\n",
    "\\end{align*}\n",
    "$$\n",
    "Therefore\n",
    "$$\n",
    "    dX_t = X_t (\\pi \\mu + (1 - \\pi) r) dt + \\pi X_t \\sigma dW_t - \\frac{S_{t-}}{S_t} dJ_t\n",
    "$$\n",
    "Where $J_t = \\sum_{i=1}^{N_t} e^{Y_j} - 1$, $N_t \\sim \\mathrm{Pois}(\\lambda t)$, $Y_j \\overset{\\mathrm{iid}}{\\sim} \\mathrm{Exp}(\\zeta)$. To accomplish this, we use the following scheme\n",
    "\n",
    "$$\n",
    "\\begin{align*}\n",
    "    \\hat{X}_{n+1} &= \\hat{X}_n + \\hat{X}_n (\\pi\\mu + (1 - \\pi) r) \\Delta t + \\sigma \\pi \\hat{X}_n \\Delta W_{n+1} + (1 - e^{Y_n})(\\pi \\hat{X}_n) \\Delta N_n \\\\\n",
    "\\end{align*}\n",
    "$$\n",
    "Where $\\Delta N_n \\overset{\\mathrm{iid}}{\\sim} \\mathrm{Bernoulli}(\\lambda \\Delta t)$."
   ]
  },
  {
   "cell_type": "code",
   "execution_count": 117,
   "id": "396bc1c1",
   "metadata": {},
   "outputs": [],
   "source": [
    "def simulate_x(x0: float = 1.0, pi: float = 0.5, dW: np.ndarray | None = None) -> np.ndarray:\n",
    "    '''\n",
    "    Returns M sample paths of X_t. By default, `X0 = 1, pi = 0.5`\n",
    "    '''\n",
    "    points = int(T / dt) + 1\n",
    "    x_path = np.empty((M, points))\n",
    "    x_path[:, 0] = x0\n",
    "\n",
    "    dW = dW if dW is not None else rng.normal(scale=np.sqrt(dt), size=(M, points))\n",
    "    dN = rng.binomial(n=1, p=dt * lam, size=(M, points))\n",
    "    # convert dN into dJ by multiplying by 1 - exp(Y)\n",
    "    \n",
    "    Y  = rng.exponential(1/zeta, size=(M, points)) \n",
    "    # definitely not the most efficient way to do this, but much quicker than python for loops (i checked)\n",
    "    dJ = dN * (1 - np.exp(Y))\n",
    "\n",
    "    for i in range(1, points):\n",
    "        x_i = x_path[:, i-1]\n",
    "        x_path[:, i] = x_i + x_i * (pi * mu + (1 - pi) * r) * dt + sig * pi * x_i * dW[:, i-1] - pi * x_i * dJ[:, i-1]\n",
    "        x_path[x_path[:, i] < 0, i] = 0\n",
    "\n",
    "    return x_path"
   ]
  },
  {
   "cell_type": "code",
   "execution_count": null,
   "id": "0ef656dc",
   "metadata": {},
   "outputs": [
    {
     "name": "stdout",
     "output_type": "stream",
     "text": [
      "MC Average with Pi = 0.5, X0 = 50, S0 = 100: -0.559851\n",
      "95 Confidence Interval: [-0.565760, -0.553942]\n"
     ]
    }
   ],
   "source": [
    "def compute_utility_samples(\n",
    "    pi: float = 0.5,\n",
    "    x0 = 1, \n",
    "    dW: np.ndarray | None = None,\n",
    "    samps: int = M\n",
    ") -> np.ndarray:\n",
    "    x_samples = np.array([simulate_x(pi=pi, x0=x0, dW=dW) for _ in range(samps)])\n",
    "    utility_samples = x_samples[:, -1]**gamma / gamma\n",
    "\n",
    "    return utility_samples\n",
    "\n",
    "dW = rng.normal(scale=np.sqrt(dt), size=(M, int(T / dt) + 1))\n",
    "samps = compute_utility_samples(dW=dW, samps=1000)\n",
    "samps_avg = samps.mean()\n",
    "samps_std = samps.std(mean=samps_avg)\n",
    "print(\n",
    "    f'MC Average with Pi = 0.5, X0 = 1: {samps_avg:.6f}',\n",
    "    f'95 Confidence Interval: [{samps_avg - 1.96 * samps_std / np.sqrt(len(samps)):.6f}, {samps_avg + 1.96 * samps_std / np.sqrt(len(samps)):.6f}]',\n",
    "    sep='\\n'\n",
    ")"
   ]
  },
  {
   "cell_type": "markdown",
   "id": "6cdb0caf",
   "metadata": {},
   "source": [
    "## (b)"
   ]
  },
  {
   "cell_type": "code",
   "execution_count": null,
   "id": "ec99f713",
   "metadata": {},
   "outputs": [],
   "source": [
    "pis = np.linspace(start=0, stop=1, num=21) # 0, 0.05, 0.1, ...\n",
    "\n",
    "x_pi_sims = [compute_utility_samples(pi=pi, dW=dW, samps=500) for pi in pis] # lowering my samples for testing"
   ]
  },
  {
   "cell_type": "code",
   "execution_count": 70,
   "id": "cc9a93bb",
   "metadata": {},
   "outputs": [
    {
     "data": {
      "text/plain": [
       "<Axes: >"
      ]
     },
     "execution_count": 70,
     "metadata": {},
     "output_type": "execute_result"
    },
    {
     "data": {
      "image/png": "[encoded data removed]",
      "text/plain": [
       "<Figure size 640x480 with 1 Axes>"
      ]
     },
     "metadata": {},
     "output_type": "display_data"
    }
   ],
   "source": [
    "utility_sims = [arr.mean() for arr in x_pi_sims]\n",
    "\n",
    "sns.lineplot(x=pis, y=utility_sims)"
   ]
  },
  {
   "cell_type": "markdown",
   "id": "43a3a173",
   "metadata": {},
   "source": [
    "*I've been debugging my code for hours and I have absolutely no clue why this graph is my final answer. I know it is wrong, but I cannot figure out what exactly is wrong. I've checked my code extensively and my implementations are fine (only issue I noticed is simulating too many RVs).*\n",
    "\n",
    "*At this point I've given up, and I'll accept that this is wrong. I'll probably come back to this in the future, but I am extremely busy this week, so I can't spend any more time on this question :(*"
   ]
  },
  {
   "cell_type": "markdown",
   "id": "06de16b7",
   "metadata": {},
   "source": [
    "# Question 3"
   ]
  },
  {
   "cell_type": "code",
   "execution_count": 73,
   "id": "a2231520",
   "metadata": {},
   "outputs": [],
   "source": [
    "rng = np.random.default_rng(1234)"
   ]
  },
  {
   "cell_type": "markdown",
   "id": "b93a48ee",
   "metadata": {},
   "source": [
    "## (a)\n",
    "\n",
    "We define the payoff\n",
    "\n",
    "$$\n",
    "\\Phi (\\{X_t\\}_{[0, 0.5]}) = \\begin{cases}\n",
    "1 &\\text{if } X_t \\in [15, 25] \\forall \\, 0 \\leq t \\leq 0.5 \\\\\n",
    "0 &\\text{otherwise}\n",
    "\\end{cases}\n",
    "$$\n",
    "\n",
    "And set $dX_t = 0.04 X_t dt + 0.4 X_{t}^{0.8} dW_t, X_0 = 20$"
   ]
  },
  {
   "cell_type": "code",
   "execution_count": 74,
   "id": "f3c91647",
   "metadata": {},
   "outputs": [
    {
     "name": "stdout",
     "output_type": "stream",
     "text": [
      "Time Elapsed: 0.5876007080078125 seconds\n",
      "95% Confidence Interval for Corridor Option: [0.8075, 0.8124]\n"
     ]
    }
   ],
   "source": [
    "num_points = int(0.5 / 0.01) + 1\n",
    "M = int(1e5)\n",
    "\n",
    "standard_start_time = time.time()\n",
    "samples = np.empty((M, num_points))\n",
    "samples[:, 0] = 20\n",
    "dW = rng.normal(loc=0, scale=0.1, size=(M, num_points-1))\n",
    "\n",
    "for i in range(num_points - 1):\n",
    "    samples[:, i+1] = samples[:, i] + 0.04 * samples[:, i] * 0.01 + 0.4 * samples[:, i]**0.8 * dW[:, i]\n",
    "\n",
    "in_corridor: np.ndarray = ((samples.max(axis=1) <= 25) & (samples.min(axis=1) >= 15)).astype(np.int8)\n",
    "\n",
    "standard_end_time = time.time()\n",
    "standard_time_elapsed = standard_end_time - standard_start_time\n",
    "\n",
    "mc_mean = in_corridor.mean()\n",
    "mc_se = in_corridor.std(mean=mc_mean) / np.sqrt(M)\n",
    "\n",
    "print(f'Time Elapsed: {standard_time_elapsed} seconds')\n",
    "print(f'95% Confidence Interval for Corridor Option: [{mc_mean - 1.96 * mc_se:.4f}, {mc_mean + 1.96 * mc_se:.4f}]')"
   ]
  },
  {
   "cell_type": "markdown",
   "id": "6622d6d4",
   "metadata": {},
   "source": [
    "## (b)"
   ]
  },
  {
   "cell_type": "markdown",
   "id": "374ab7e6",
   "metadata": {},
   "source": [
    "For the antithetic sampling method, we take $$-dW_t$$ and add these to our estimates."
   ]
  },
  {
   "cell_type": "code",
   "execution_count": 75,
   "id": "347df267",
   "metadata": {},
   "outputs": [
    {
     "name": "stdout",
     "output_type": "stream",
     "text": [
      "95% Antithetic Confidence Interval for Corridor Option: [0.8082, 0.8117]\n",
      "Regular MC SE: 0.0012407642548042718\n",
      "Antithetic MC SE: 0.0008772821621348516\n"
     ]
    }
   ],
   "source": [
    "antithetic_time_start = time.time()\n",
    "\n",
    "antithetic_samples = np.empty((M, num_points))\n",
    "antithetic_samples[:, 0] = 20\n",
    "antithetic_dW = -dW\n",
    "\n",
    "for i in range(num_points - 1):\n",
    "    antithetic_samples[:, i+1] = antithetic_samples[:, i] + 0.04 * antithetic_samples[:, i] * 0.01 + 0.4 * antithetic_samples[:, i]**0.8 * antithetic_dW[:, i]\n",
    "\n",
    "final_antithetic_samples = np.concatenate([samples, antithetic_samples])\n",
    "\n",
    "antithetic_in_corridor: np.ndarray = ((final_antithetic_samples.max(axis=1) <= 25) & (final_antithetic_samples.min(axis=1) >= 15)).astype(np.int8)\n",
    "\n",
    "antithetic_time_stop = time.time()\n",
    "antithetic_time_elapsed = antithetic_time_stop - antithetic_time_start\n",
    "\n",
    "antithetic_mc_mean = antithetic_in_corridor.mean()\n",
    "antithetic_mc_se = antithetic_in_corridor.std(mean=antithetic_mc_mean) / np.sqrt(2 * M)\n",
    "\n",
    "print(f'95% Antithetic Confidence Interval for Corridor Option: [{antithetic_mc_mean - 1.96 * antithetic_mc_se:.4f}, {antithetic_mc_mean + 1.96 * antithetic_mc_se:.4f}]')\n",
    "print(f'Regular MC SE: {mc_se}', f'Antithetic MC SE: {antithetic_mc_se}', sep='\\n')"
   ]
  },
  {
   "cell_type": "markdown",
   "id": "984b9973",
   "metadata": {},
   "source": [
    "## (c)"
   ]
  },
  {
   "cell_type": "markdown",
   "id": "7a241f8b",
   "metadata": {},
   "source": [
    "I will use the step sizes $h_1 = 0.01$, $h_2 = 0.02$, $h_3 = 0.0025$. In doing so, the scheme in (a) becomes the cheap one, and we're incorporating benefits of faster schemes."
   ]
  },
  {
   "cell_type": "code",
   "execution_count": 76,
   "id": "80e5a265",
   "metadata": {},
   "outputs": [],
   "source": [
    "N1 = 50000\n",
    "h1 = 0.01\n",
    "N2 = 15000\n",
    "h2 = 0.005\n",
    "N3 = 5000\n",
    "h3 = 0.0025"
   ]
  },
  {
   "cell_type": "markdown",
   "id": "c56a9d3e",
   "metadata": {},
   "source": [
    "For ease, we recall $dX_t = 0.04 X_t dt + 0.4 X_{t}^{0.8} dW_t, X_0 = 20$.\n",
    "\n",
    "Set $G_i$ to be scheme $i$ (i.e. using step size $h_i$). Then we are evaluating\n",
    "\n",
    "$$\n",
    "    \\mathbb{E} [G_0] + \\mathbb{E} [G_1 - G_0] + \\mathbb{E} [G_2 - G_1]\n",
    "$$\n",
    "\n",
    "Where we simulate each item under the expectation independently."
   ]
  },
  {
   "cell_type": "code",
   "execution_count": 77,
   "id": "24ad5f30",
   "metadata": {},
   "outputs": [],
   "source": [
    "mlmc_start_time = time.time()\n",
    "\n",
    "# coarse scheme\n",
    "coarse_points = int(0.5 / h1) + 1\n",
    "coarse_x = np.empty((N1, coarse_points))\n",
    "coarse_x[:, 0] = 20\n",
    "coarse_dW = np.sqrt(h1) * rng.normal(size=(N1, coarse_points - 1))\n",
    "\n",
    "for i in range(coarse_points - 1):\n",
    "    prev_x = coarse_x[:, i]\n",
    "    coarse_x[:, i+1] = prev_x + 0.04 * prev_x * h1 + 0.4 * prev_x**0.8 * coarse_dW[:, i]\n",
    "\n",
    "coarse_payoffs: np.ndarray = ((coarse_x.max(axis=1) <= 25) & (coarse_x.min(axis=1) >= 15)).astype(np.int8)\n",
    "\n",
    "# moderate scheme\n",
    "moderate_points = int(0.5 / h2) + 1\n",
    "moderate_x = np.empty((N2, moderate_points))\n",
    "moderate_x[:, 0] = 20\n",
    "moderate_bm = rng.normal(size=(N2, moderate_points - 1))\n",
    "moderate_dW = np.sqrt(h2) * moderate_bm\n",
    "\n",
    "for i in range(moderate_points - 1):\n",
    "    prev_x = moderate_x[:, i]\n",
    "    moderate_x[:, i+1] = prev_x + 0.04 * prev_x * h2 + 0.4 * prev_x**0.8 * moderate_dW[:, i]\n",
    "\n",
    "moderate_level1_payoffs: np.ndarray = ((moderate_x.max(axis=1) <= 25) & (moderate_x.min(axis=1) >= 15)).astype(np.int8)\n",
    "\n",
    "# use moderate RVs for coarse RVs\n",
    "coarse_with_moderate_x = np.empty((N2, coarse_points))\n",
    "coarse_with_moderate_x[:, 0] = 20\n",
    "coarse_with_moderate_dW = np.sqrt(h2 / 2) * (moderate_bm[:, ::2] + moderate_bm[:, 1::2])\n",
    "\n",
    "for i in range(coarse_points - 1):\n",
    "    prev_x = coarse_with_moderate_x[:, i]\n",
    "    coarse_with_moderate_x[:, i+1] = prev_x + 0.04 * prev_x * h1 + 0.4 * prev_x**0.8 * coarse_with_moderate_dW[:, i]\n",
    "\n",
    "moderate_level0_payoffs: np.ndarray = ((coarse_with_moderate_x.max(axis=1) <= 25) & (coarse_with_moderate_x.min(axis=1) >= 15)).astype(np.int8)\n",
    "\n",
    "moderate_bias = moderate_level1_payoffs - moderate_level1_payoffs\n",
    "\n",
    "# fine scheme\n",
    "fine_points = int(0.5 / h3) + 1\n",
    "fine_x = np.empty((N3, fine_points))\n",
    "fine_x[:, 0] = 20\n",
    "fine_bm = rng.normal(size=(N3, fine_points - 1))\n",
    "fine_dW = np.sqrt(h3) * fine_bm\n",
    "\n",
    "for i in range(fine_points - 1):\n",
    "    prev_x = fine_x[:, i]\n",
    "    fine_x[:, i+1] = prev_x + 0.04 * prev_x * h3 + 0.4 * prev_x**0.8 * fine_dW[:, i]\n",
    "\n",
    "fine_level2_payoffs: np.ndarray = ((fine_x.max(axis=1) <= 25) & (fine_x.min(axis=1) >= 15)).astype(np.int8)\n",
    "\n",
    "# coarse scheme with fine BM\n",
    "moderate_with_fine_x = np.empty((N3, moderate_points))\n",
    "moderate_with_fine_x[:, 0] = 20\n",
    "moderate_with_fine_dW = np.sqrt(h2 / 2) * (fine_bm[:, ::2] + fine_bm[:, 1::2])\n",
    "\n",
    "for i in range(moderate_points - 1):\n",
    "    prev_x = moderate_with_fine_x[:, i]\n",
    "    moderate_with_fine_x[:, i+1] = prev_x + 0.04 * prev_x * h2 + 0.4 * prev_x**0.8 * moderate_with_fine_dW[:, i]\n",
    "\n",
    "fine_level1_payoffs: np.ndarray = ((moderate_with_fine_x.max(axis=1) <= 25) & (moderate_with_fine_x.min(axis=1) >= 15)).astype(np.int8)\n",
    "\n",
    "fine_bias = fine_level2_payoffs - fine_level1_payoffs\n",
    "\n",
    "mlmc_end_time = time.time()\n",
    "mlc_time_elapsed = mlmc_end_time - mlmc_start_time"
   ]
  },
  {
   "cell_type": "code",
   "execution_count": 78,
   "id": "03464ca8",
   "metadata": {},
   "outputs": [
    {
     "name": "stdout",
     "output_type": "stream",
     "text": [
      "95% MLMC Confidence Interval: [0.7987142847888962, 0.8068057152111039]\n",
      "Standard SE: 0.0012407642548042718, Time Elapsed: 0.5876007080078125\n",
      "Antithetic SE: 0.0008772821621348516, Time Elapsed: 0.6238477230072021\n",
      "MLMC SE: 0.002064140413828478, Time Elapsed: 0.4974968433380127\n"
     ]
    }
   ],
   "source": [
    "# compute monte carlo estimates and se\n",
    "# note that due to independence, se of final estimate is just sum of the se's \n",
    "mlmc_mean = coarse_payoffs.mean() + moderate_bias.mean() + fine_bias.mean()\n",
    "mlmc_se = np.sqrt(coarse_payoffs.var() / N1 + moderate_bias.var() / N2 + fine_bias.var() / N3)\n",
    "\n",
    "print(f'95% MLMC Confidence Interval: [{mlmc_mean - 1.96 * mlmc_se}, {mlmc_mean + 1.96 * mlmc_se}]')\n",
    "print(\n",
    "    f'Standard SE: {mc_se}, Time Elapsed: {standard_time_elapsed}',\n",
    "    f'Antithetic SE: {antithetic_mc_se}, Time Elapsed: {antithetic_time_elapsed}',\n",
    "    f'MLMC SE: {mlmc_se}, Time Elapsed: {mlc_time_elapsed}',\n",
    "    sep='\\n'\n",
    ")"
   ]
  },
  {
   "cell_type": "code",
   "execution_count": 79,
   "id": "cd1eab55",
   "metadata": {},
   "outputs": [
    {
     "name": "stdout",
     "output_type": "stream",
     "text": [
      "Percent Change for Standard Error: 66.3604%\n",
      "Percent Change for Time Elapsed: -15.3342%\n"
     ]
    }
   ],
   "source": [
    "print(f'Percent Change for Standard Error: {100 * (mlmc_se - mc_se) / mc_se:.4f}%')\n",
    "print(f'Percent Change for Time Elapsed: {100 * (mlc_time_elapsed - standard_time_elapsed) / standard_time_elapsed:.4f}%')"
   ]
  },
  {
   "cell_type": "markdown",
   "id": "6cb99716",
   "metadata": {},
   "source": [
    "Compared to Standard Monte Carlo, we see that MLMC achieves 66.4% more error while running 15.3% faster."
   ]
  }
 ],
 "metadata": {
  "kernelspec": {
   "display_name": "Python 3",
   "language": "python",
   "name": "python3"
  },
  "language_info": {
   "codemirror_mode": {
    "name": "ipython",
    "version": 3
   },
   "file_extension": ".py",
   "mimetype": "text/x-python",
   "name": "python",
   "nbconvert_exporter": "python",
   "pygments_lexer": "ipython3",
   "version": "3.13.3"
  }
 },
 "nbformat": 4,
 "nbformat_minor": 5
}
