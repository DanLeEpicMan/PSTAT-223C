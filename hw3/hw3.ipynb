{
 "cells": [
  {
   "cell_type": "code",
   "execution_count": 95,
   "id": "77b6c6eb",
   "metadata": {},
   "outputs": [
    {
     "name": "stdout",
     "output_type": "stream",
     "text": [
      "Python 3.13.3\n"
     ]
    }
   ],
   "source": [
    "!python -V\n",
    "import numpy as np\n",
    "import scipy as sp\n",
    "import seaborn as sns\n",
    "import matplotlib.pyplot as plt\n",
    "import torch\n",
    "import gpytorch as gp\n",
    "from typing import Callable\n",
    "\n",
    "\n",
    "rng = np.random.default_rng(1234)"
   ]
  },
  {
   "cell_type": "markdown",
   "id": "3e749b44",
   "metadata": {},
   "source": [
    "# Question 1"
   ]
  },
  {
   "cell_type": "markdown",
   "id": "7318764b",
   "metadata": {},
   "source": [
    "# Question 2"
   ]
  },
  {
   "cell_type": "markdown",
   "id": "c3f6ca24",
   "metadata": {},
   "source": [
    "## (a)"
   ]
  },
  {
   "cell_type": "markdown",
   "id": "871e79a1",
   "metadata": {},
   "source": [
    "Set $\\sigma(R_1, R_2) = \\beta_0 + \\beta_1 R_1 + \\beta_2 \\sqrt{R_2}$. Then for the model\n",
    "\n",
    "$$\n",
    "\\begin{align*}\n",
    "    dS_t &= S_t \\sigma(R_{1, t}, R_{2, t}) dW_t \\\\\n",
    "    dR_{1, t} &= \\lambda_1 \\sigma(R_{1, t}, R_{2, t}) dW_t - \\lambda_1 R_{1, t} dt \\\\\n",
    "    dR_{2, t} &= \\lambda_2 \\left( \\sigma(R_{1, t}, R_{2, t})^2 - R_{2, t} \\right) dt\n",
    "\\end{align*}\n",
    "$$\n",
    "\n",
    "We will use the Euler-Maruyama discretization\n",
    "\n",
    "$$\n",
    "\\begin{align*}\n",
    "    \\hat{S}_{n+1} &= \\hat{S}_{n} + \\hat{S}_{n} \\sigma(\\hat{R}_{1, n}, \\hat{R}_{2, n}) \\Delta W_n \\\\\n",
    "    \\hat{R}_{1, n+1} &= \\hat{R}_{1, n} + \\lambda_1 \\sigma(\\hat{R}_{1, n}, \\hat{R}_{2, n}) \\Delta W_n - \\lambda_1 \\hat{R}_{1, n} \\Delta t \\\\\n",
    "    \\hat{R}_{2, n+1} &= \\hat{R}_{2, n} + \\lambda_2 \\left( \\sigma(\\hat{R}_{1, n}, \\hat{R}_{2, n})^2 - \\hat{R}_{2, n} \\right) \\Delta t\n",
    "\\end{align*}\n",
    "$$"
   ]
  },
  {
   "cell_type": "code",
   "execution_count": 96,
   "id": "3a395210",
   "metadata": {},
   "outputs": [],
   "source": [
    "def sigma(r1, r2, *, b0=0.08, b1=-0.08, b2=0.5):\n",
    "    return b0 + b1 * r1 + b2 * np.sqrt(r2)\n",
    "\n",
    "def generate_mc_samples(\n",
    "    *,\n",
    "    S0: float = 8.0,\n",
    "    R10: float = -0.044,\n",
    "    R20: float = 0.007,\n",
    "    lambda1: float = 62,\n",
    "    lambda2: float = 40,\n",
    "    dt: float = 0.001,\n",
    "    T: float = 0.33,\n",
    "    M: int = 1000,\n",
    "    dW: np.ndarray | None = None\n",
    ") -> np.ndarray:\n",
    "    path_length = int(T / dt) + 1 # 0, dt, ..., T\n",
    "\n",
    "    S = np.empty((M, path_length))\n",
    "    R1 = np.empty((M, path_length))\n",
    "    R2 = np.empty((M, path_length))\n",
    "\n",
    "    S[:, 0], R1[:, 0], R2[:, 0] = S0, R10, R20\n",
    "\n",
    "    dW = dW if dW is not None else rng.normal(scale=np.sqrt(dt), size=(M, path_length-1))\n",
    "\n",
    "    for i in range(path_length-1):\n",
    "        Sn, R1n, R2n, dWn = S[:, i], R1[:, i], R2[:, i], dW[:, i]\n",
    "        \n",
    "        S[:, i+1] = Sn + Sn * sigma(R1n, R2n) * dWn\n",
    "        R1[:, i+1] = R1n + lambda1 * sigma(R1n, R2n) * dWn - lambda1 * R1n * dt\n",
    "        R2[:, i+1] = R2n + lambda2 * (sigma(R1n, R2n)**2 - R2n) * dt\n",
    "\n",
    "    return S"
   ]
  },
  {
   "cell_type": "code",
   "execution_count": 97,
   "id": "14b29c1e",
   "metadata": {},
   "outputs": [],
   "source": [
    "def get_payoff(S0: float, *, M: int = 1000, dW: np.ndarray | None = None):\n",
    "    simulation = generate_mc_samples(S0=S0, M=M, dW=dW)\n",
    "    return np.average(np.maximum(simulation[:, -1] - 10, 0))\n",
    "\n",
    "def get_delta(S0: float, *, eps: float = 5e-3, M: int = 1000) -> float:\n",
    "    dW = rng.normal(scale=np.sqrt(0.001), size=(M, 330))\n",
    "\n",
    "    top_payoff = get_payoff(S0 + eps, M=M, dW=dW)\n",
    "    bottom_payoff = get_payoff(S0 - eps, M=M, dW=dW)\n",
    "\n",
    "    return (top_payoff - bottom_payoff) / (2 * eps)"
   ]
  },
  {
   "cell_type": "code",
   "execution_count": 98,
   "id": "7b637f0a",
   "metadata": {},
   "outputs": [
    {
     "data": {
      "image/png": "[encoded data removed]",
      "text/plain": [
       "<Figure size 640x480 with 1 Axes>"
      ]
     },
     "metadata": {},
     "output_type": "display_data"
    }
   ],
   "source": [
    "s_range = np.linspace(8, 12, int(4 / 0.1) + 1)\n",
    "\n",
    "deltas = np.array([get_delta(s) for s in s_range])\n",
    "\n",
    "ax = sns.lineplot(x=s_range, y=deltas)\n",
    "ax.set_xlabel('S0')\n",
    "ax.set_ylabel('Delta')\n",
    "\n",
    "plt.show()"
   ]
  },
  {
   "cell_type": "markdown",
   "id": "7c6f6ca5",
   "metadata": {},
   "source": [
    "## (b)"
   ]
  },
  {
   "cell_type": "code",
   "execution_count": 99,
   "id": "a354845b",
   "metadata": {},
   "outputs": [
    {
     "name": "stdout",
     "output_type": "stream",
     "text": [
      "Iter 1/50 - Loss: 0.945   lengthscale: 0.693   noise: 0.693\n",
      "Iter 2/50 - Loss: 0.900   lengthscale: 0.744   noise: 0.644\n",
      "Iter 3/50 - Loss: 0.855   lengthscale: 0.798   noise: 0.598\n",
      "Iter 4/50 - Loss: 0.811   lengthscale: 0.853   noise: 0.554\n",
      "Iter 5/50 - Loss: 0.768   lengthscale: 0.911   noise: 0.513\n",
      "Iter 6/50 - Loss: 0.725   lengthscale: 0.970   noise: 0.474\n",
      "Iter 7/50 - Loss: 0.683   lengthscale: 1.030   noise: 0.437\n",
      "Iter 8/50 - Loss: 0.643   lengthscale: 1.091   noise: 0.402\n",
      "Iter 9/50 - Loss: 0.602   lengthscale: 1.152   noise: 0.370\n",
      "Iter 10/50 - Loss: 0.563   lengthscale: 1.214   noise: 0.340\n",
      "Iter 11/50 - Loss: 0.524   lengthscale: 1.276   noise: 0.312\n",
      "Iter 12/50 - Loss: 0.485   lengthscale: 1.338   noise: 0.285\n",
      "Iter 13/50 - Loss: 0.445   lengthscale: 1.399   noise: 0.261\n",
      "Iter 14/50 - Loss: 0.404   lengthscale: 1.460   noise: 0.238\n",
      "Iter 15/50 - Loss: 0.362   lengthscale: 1.520   noise: 0.217\n",
      "Iter 16/50 - Loss: 0.319   lengthscale: 1.579   noise: 0.198\n",
      "Iter 17/50 - Loss: 0.275   lengthscale: 1.638   noise: 0.180\n",
      "Iter 18/50 - Loss: 0.231   lengthscale: 1.695   noise: 0.164\n",
      "Iter 19/50 - Loss: 0.186   lengthscale: 1.752   noise: 0.149\n",
      "Iter 20/50 - Loss: 0.142   lengthscale: 1.808   noise: 0.135\n",
      "Iter 21/50 - Loss: 0.097   lengthscale: 1.863   noise: 0.123\n",
      "Iter 22/50 - Loss: 0.051   lengthscale: 1.918   noise: 0.111\n",
      "Iter 23/50 - Loss: 0.006   lengthscale: 1.972   noise: 0.101\n",
      "Iter 24/50 - Loss: -0.039   lengthscale: 2.027   noise: 0.091\n",
      "Iter 25/50 - Loss: -0.085   lengthscale: 2.081   noise: 0.082\n",
      "Iter 26/50 - Loss: -0.130   lengthscale: 2.136   noise: 0.074\n",
      "Iter 27/50 - Loss: -0.176   lengthscale: 2.191   noise: 0.067\n",
      "Iter 28/50 - Loss: -0.222   lengthscale: 2.247   noise: 0.061\n",
      "Iter 29/50 - Loss: -0.267   lengthscale: 2.304   noise: 0.055\n",
      "Iter 30/50 - Loss: -0.313   lengthscale: 2.361   noise: 0.049\n",
      "Iter 31/50 - Loss: -0.359   lengthscale: 2.419   noise: 0.045\n",
      "Iter 32/50 - Loss: -0.406   lengthscale: 2.477   noise: 0.040\n",
      "Iter 33/50 - Loss: -0.452   lengthscale: 2.536   noise: 0.036\n",
      "Iter 34/50 - Loss: -0.498   lengthscale: 2.596   noise: 0.033\n",
      "Iter 35/50 - Loss: -0.544   lengthscale: 2.656   noise: 0.029\n",
      "Iter 36/50 - Loss: -0.590   lengthscale: 2.717   noise: 0.027\n",
      "Iter 37/50 - Loss: -0.637   lengthscale: 2.778   noise: 0.024\n",
      "Iter 38/50 - Loss: -0.683   lengthscale: 2.839   noise: 0.022\n",
      "Iter 39/50 - Loss: -0.728   lengthscale: 2.899   noise: 0.019\n",
      "Iter 40/50 - Loss: -0.774   lengthscale: 2.960   noise: 0.017\n",
      "Iter 41/50 - Loss: -0.820   lengthscale: 3.020   noise: 0.016\n",
      "Iter 42/50 - Loss: -0.865   lengthscale: 3.080   noise: 0.014\n",
      "Iter 43/50 - Loss: -0.910   lengthscale: 3.139   noise: 0.013\n",
      "Iter 44/50 - Loss: -0.955   lengthscale: 3.198   noise: 0.012\n",
      "Iter 45/50 - Loss: -1.000   lengthscale: 3.256   noise: 0.010\n",
      "Iter 46/50 - Loss: -1.045   lengthscale: 3.313   noise: 0.009\n",
      "Iter 47/50 - Loss: -1.089   lengthscale: 3.370   noise: 0.008\n",
      "Iter 48/50 - Loss: -1.132   lengthscale: 3.426   noise: 0.008\n",
      "Iter 49/50 - Loss: -1.176   lengthscale: 3.481   noise: 0.007\n",
      "Iter 50/50 - Loss: -1.219   lengthscale: 3.535   noise: 0.006\n"
     ]
    }
   ],
   "source": [
    "data = torch.tensor(s_range, requires_grad=True)\n",
    "target = torch.tensor([get_payoff(s) for s in s_range])\n",
    "\n",
    "class GP(gp.models.ExactGP):\n",
    "    def __init__(self, train_x, train_y, likelihood):\n",
    "        super().__init__(train_x, train_y, likelihood)\n",
    "        self.mean_module = gp.means.ConstantMean()\n",
    "        self.covar_module = gp.kernels.ScaleKernel(gp.kernels.MaternKernel(nu=2.5))\n",
    "\n",
    "    def forward(self, x):\n",
    "        mean_x = self.mean_module(x)\n",
    "        cov_x = self.covar_module(x)\n",
    "        return gp.distributions.MultivariateNormal(mean_x, cov_x)\n",
    "\n",
    "likelihood=gp.likelihoods.GaussianLikelihood()\n",
    "gp_surrogate = GP(data, target, likelihood=likelihood)\n",
    "# likelihood specifices the districution of y, i.e. p(y | x) ~ likelihood(x)\n",
    "\n",
    "# code adapted from: https://docs.gpytorch.ai/en/stable/examples/01_Exact_GPs/Simple_GP_Regression.html\n",
    "\n",
    "# Find optimal model hyperparameters\n",
    "gp_surrogate.train()\n",
    "likelihood.train()\n",
    "\n",
    "# Use the adam optimizer\n",
    "optimizer = torch.optim.Adam(gp_surrogate.parameters(), lr=0.1)  # Includes GaussianLikelihood parameters\n",
    "\n",
    "# \"Loss\" for GPs - the marginal log likelihood\n",
    "mll = gp.mlls.ExactMarginalLogLikelihood(likelihood, gp_surrogate)\n",
    "\n",
    "for i in range(50):\n",
    "    # Zero gradients from previous iteration\n",
    "    optimizer.zero_grad()\n",
    "    # Output from model\n",
    "    output = gp_surrogate(data)\n",
    "    # Calc loss and backprop gradients\n",
    "    loss = -mll(output, target)\n",
    "    loss.backward()\n",
    "    print('Iter %d/%d - Loss: %.3f   lengthscale: %.3f   noise: %.3f' % (\n",
    "        i + 1, 50, loss.item(),\n",
    "        gp_surrogate.covar_module.base_kernel.lengthscale.item(),\n",
    "        gp_surrogate.likelihood.noise.item()\n",
    "    ))\n",
    "    optimizer.step()"
   ]
  },
  {
   "cell_type": "code",
   "execution_count": 101,
   "id": "94045843",
   "metadata": {},
   "outputs": [
    {
     "name": "stderr",
     "output_type": "stream",
     "text": [
      "c:\\Users\\holyd_lrfudwy\\AppData\\Local\\Programs\\Python\\Python313\\Lib\\site-packages\\gpytorch\\models\\exact_gp.py:296: GPInputWarning: The input matches the stored training data. Did you forget to call model.train()?\n",
      "  warnings.warn(\n"
     ]
    },
    {
     "data": {
      "text/plain": [
       "tensor([-16.3343,  -6.8288,   0.4281,   5.4674,   8.4979,   9.1399,   8.5102,\n",
       "          6.9421,   3.0127,   0.3787,  -1.6829,  -4.2687,  -6.8667,   1.8835,\n",
       "         -2.5811,  -1.5031,  -0.9430,  -1.4072,  -0.6273,   2.1755,   0.6108,\n",
       "          1.3848,   2.2556,  -0.1993,  -1.7297,  -4.7910, -17.5376,  -2.2928,\n",
       "        -14.5712,  19.7376,  34.8488,  10.8295,  30.5770, -10.4991,  -5.4527,\n",
       "         -2.0503,   0.5698,   2.6466, -34.6340,   5.0120, -18.1076],\n",
       "       dtype=torch.float64)"
      ]
     },
     "metadata": {},
     "output_type": "display_data"
    },
    {
     "data": {
      "text/plain": [
       "<Axes: >"
      ]
     },
     "execution_count": 101,
     "metadata": {},
     "output_type": "execute_result"
    },
    {
     "data": {
      "image/png": "[encoded data removed]",
      "text/plain": [
       "<Figure size 640x480 with 1 Axes>"
      ]
     },
     "metadata": {},
     "output_type": "display_data"
    }
   ],
   "source": [
    "# evaluate gradient of model w.r.t input\n",
    "gp_surrogate.eval()\n",
    "likelihood.eval()\n",
    "optimizer.zero_grad()\n",
    "\n",
    "out = likelihood(gp_surrogate(data)).mean\n",
    "\n",
    "delta = torch.autograd.grad(out, data, torch.ones_like(out))[0]\n",
    "\n",
    "display(delta)\n",
    "\n",
    "sns.lineplot(x=data.detach().numpy(), y=delta.detach().numpy())"
   ]
  },
  {
   "cell_type": "markdown",
   "id": "5d191ece",
   "metadata": {},
   "source": [
    "# Question 3"
   ]
  }
 ],
 "metadata": {
  "kernelspec": {
   "display_name": "Python 3",
   "language": "python",
   "name": "python3"
  },
  "language_info": {
   "codemirror_mode": {
    "name": "ipython",
    "version": 3
   },
   "file_extension": ".py",
   "mimetype": "text/x-python",
   "name": "python",
   "nbconvert_exporter": "python",
   "pygments_lexer": "ipython3",
   "version": "3.13.3"
  }
 },
 "nbformat": 4,
 "nbformat_minor": 5
}
